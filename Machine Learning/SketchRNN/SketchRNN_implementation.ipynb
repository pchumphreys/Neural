{
 "cells": [
  {
   "cell_type": "markdown",
   "metadata": {},
   "source": [
    "## Sketch RNN\n",
    "\n",
    "Lets implement Sketch RNN from https://arxiv.org/pdf/1704.03477.pdf!"
   ]
  },
  {
   "cell_type": "markdown",
   "metadata": {},
   "source": [
    "### Data\n",
    "First get the data (npz files), I stored it locally. https://github.com/googlecreativelab/quickdraw-dataset"
   ]
  },
  {
   "cell_type": "code",
   "execution_count": 25,
   "metadata": {},
   "outputs": [],
   "source": [
    "import os\n",
    "import numpy as np\n",
    "from utils_from_sketchRNN import *\n",
    "import matplotlib.pyplot as plt\n",
    "%matplotlib inline"
   ]
  },
  {
   "cell_type": "code",
   "execution_count": 298,
   "metadata": {},
   "outputs": [
    {
     "name": "stdout",
     "output_type": "stream",
     "text": [
      "Lets play with the category: bear\n"
     ]
    }
   ],
   "source": [
    "data_file_dir = '/Users/phumphreys/Repositories/quick_draw_files'\n",
    "files = os.listdir(data_file_dir)\n",
    "categories = [file.split('.')[0] for file in files if '.npz' in file]\n",
    "\n",
    "category = categories[1]\n",
    "category ='bear'\n",
    "print('Lets play with the category: {0}'.format(category))\n",
    "data = np.load(os.path.join(data_file_dir,category+'.npz'),encoding='bytes')\n",
    "\n",
    "train = data['train']\n",
    "test = data['test']\n",
    "valid = data['valid']"
   ]
  },
  {
   "cell_type": "code",
   "execution_count": 299,
   "metadata": {},
   "outputs": [
    {
     "name": "stdout",
     "output_type": "stream",
     "text": [
      "total images <= max_seq_len is 70000\n"
     ]
    }
   ],
   "source": [
    "x=[]\n",
    "y=[]\n",
    "for t in train:\n",
    "    x.extend(t[:,0])\n",
    "    y.extend(t[:,0])\n",
    "std_dev = 0.5*(np.std(x)+np.std(y))\n",
    "# Normalise by std deviation!\n",
    "dl = DataLoader(train,scale_factor=std_dev)"
   ]
  },
  {
   "cell_type": "code",
   "execution_count": 305,
   "metadata": {},
   "outputs": [
    {
     "data": {
      "image/png": "[encoded data removed]",
      "text/plain": [
       "<Figure size 432x288 with 1 Axes>"
      ]
     },
     "metadata": {
      "needs_background": "light"
     },
     "output_type": "display_data"
    }
   ],
   "source": [
    "lines = strokes_to_lines(train[900])\n",
    "plt.figure()\n",
    "for line in lines:\n",
    "    line = np.array(line)\n",
    "    plt.plot(line[:,0],-line[:,1])"
   ]
  },
  {
   "cell_type": "markdown",
   "metadata": {},
   "source": [
    "### Implementation \n",
    "\n",
    "Ok, lets get this thing coded up!\n",
    "\n",
    "![](figs/schematic.png)"
   ]
  },
  {
   "cell_type": "code",
   "execution_count": 306,
   "metadata": {},
   "outputs": [],
   "source": [
    "import tensorflow as tf\n",
    "import keras\n",
    "from keras.models import Model, Sequential\n",
    "from keras.layers import *\n",
    "from keras import backend as K\n",
    "\n",
    "import tensorflow_probability as tfp\n",
    "tfd = tfp.distributions"
   ]
  },
  {
   "cell_type": "code",
   "execution_count": 307,
   "metadata": {},
   "outputs": [],
   "source": [
    "max_seq_length = dl.max_seq_length\n",
    "encoder_hidden_units = 128#512\n",
    "decoder_hidden_units= 512#2048 \n",
    "n_latent = 128#128\n",
    "n_gaussians= 4#20\n",
    "\n",
    "\n",
    "\n",
    "tf.reset_default_graph() # THIS IS NECESSARY BEFORE MAKING NEW SESSION TO STOP IT ERRORING!!\n",
    "\n",
    "if not(tf.get_default_session() is None):\n",
    "    tf.get_default_session().close()\n",
    "\n",
    "sess = tf.InteractiveSession()\n",
    "\n",
    "### ENCODER\n",
    "\n",
    "encoder_inputs = tf.placeholder(tf.float32,shape=(None,None,5),name='inputs')\n",
    "\n",
    "def pad_input_length(args,max_seq_length):\n",
    "    to_pad = max_seq_length-tf.shape(args)[-2]\n",
    "    tf.Assert(to_pad >= 0, [to_pad])\n",
    "    padding = tf.tile([[[0.0,0.0,0.0,0.0,1.0]]],[tf.shape(args)[0],to_pad,1])\n",
    "    return tf.concat([args,padding],axis=-2)\n",
    "encoder_inputs = Lambda(pad_input_length,arguments={'max_seq_length' : max_seq_length})(encoder_inputs)\n",
    "\n",
    "encoder_net = Sequential()\n",
    "encoder_net.add(Bidirectional(LSTM(encoder_hidden_units,return_sequences=False),name='encoder_LSTMs'))\n",
    "encoder_net.add(BatchNormalization()) # They use layer norm, but you know, laziness\n",
    "encoder_net.add(Dense(2*n_latent,name='means_log_stds'))\n",
    "\n",
    "latent_in = encoder_net(encoder_inputs)\n",
    "\n",
    "def _softplus_inverse(x):\n",
    "  \"\"\"Helper which computes the function inverse of `tf.nn.softplus`.\"\"\"\n",
    "  return tf.log(tf.expm1(x))\n",
    "\n",
    "def get_dist_from_latent(latent_in):\n",
    "    mean,softp_inv = tf.split(latent_in,num_or_size_splits=2,axis=-1)\n",
    "    return tfp.distributions.MultivariateNormalDiag(\n",
    "        loc=mean,\n",
    "        scale_diag=tf.nn.softplus(softp_inv+_softplus_inverse(1.0)),name='encoder_dist')\n",
    "\n",
    "prior_dist = tfp.distributions.MultivariateNormalDiag(\n",
    "        loc=tf.zeros(n_latent),\n",
    "        scale_identity_multiplier=1.0,name='encoder_dist_prior')\n",
    "\n",
    "encoder_dist = get_dist_from_latent(latent_in)\n",
    "z = encoder_dist.sample()\n",
    "\n",
    "##### DECODER\n",
    "\n",
    "h0 = Dense(decoder_hidden_units,activation='tanh',name='h0')(z)\n",
    "h0 = BatchNormalization()(h0)\n",
    "c0 = Dense(decoder_hidden_units,activation='tanh',name='c0')(z)\n",
    "c0 = BatchNormalization()(c0)\n",
    "\n",
    "decoderLSTM = LSTM(decoder_hidden_units,return_sequences=True,name='decoderLSTM') # Define so that can share weights with predict later\n",
    "\n",
    "def concat_repeated_z(args):\n",
    "    z,inputs = args\n",
    "    tiled_z = K.tile(K.expand_dims(z,axis=1),[1,K.shape(inputs)[1],1])\n",
    "    return Concatenate()([tiled_z,inputs])\n",
    "training_decoder_in = Lambda(concat_repeated_z,name='concat_inputs_latents')([z,encoder_inputs]) # Pad each entry with z\n",
    "training_decoder_output = decoderLSTM(training_decoder_in,initial_state = (h0,c0))\n",
    "training_decoder_output = BatchNormalization()(training_decoder_output)\n",
    "\n",
    "# Gaussian mixture model for output\n",
    "\n",
    "def Gaussian2D(args):\n",
    "    scale_tril = tfd.fill_triangular(tf.concat([tf.nn.softplus(args[...,0]+_softplus_inverse(1.0)),args[...,1],tf.nn.softplus(args[...,2]+_softplus_inverse(1.0))],axis=-1))\n",
    "    return tfd.MultivariateNormalTriL(loc=args[...,3:5],scale_tril=scale_tril)\n",
    "\n",
    "def GaussianMixtures2D(gmm_vars):\n",
    "    if len(gmm_vars.shape) == 2:\n",
    "        gmm_vars = tf.reshape(gmm_vars,[tf.shape(gmm_vars)[0],-1,6]) # Assumes that input will be [None,n*6]\n",
    "    elif len(gmm_vars.shape) == 3:\n",
    "        gmm_vars = tf.reshape(gmm_vars,[tf.shape(gmm_vars)[0],tf.shape(gmm_vars)[1],-1,6]) # Assumes that input will be [None,None,n*6]\n",
    "    else:\n",
    "        raise('Sorry input shape not supported')\n",
    "    weights = gmm_vars[...,0]\n",
    "    scale_trils = tfd.fill_triangular(\n",
    "        tf.concat([tf.nn.softplus(tf.expand_dims(gmm_vars[...,1],axis=-1)+_softplus_inverse(1.0)),\n",
    "                     tf.expand_dims(gmm_vars[...,2],axis=-1),\n",
    "                     tf.nn.softplus(tf.expand_dims(gmm_vars[...,3],axis=-1)+_softplus_inverse(1.0))],axis=-1))\n",
    "    means = gmm_vars[...,4:6]\n",
    "    return tfd.MixtureSameFamily(mixture_distribution=tfd.Categorical(logits = weights),\n",
    "        components_distribution=tfd.MultivariateNormalTriL(loc=means,scale_tril=scale_trils),name='gmm')\n",
    "\n",
    "    \n",
    "dense_pos = TimeDistributed(Dense(n_gaussians*6))(training_decoder_output)\n",
    "encoder_pos_dists = GaussianMixtures2D(dense_pos)\n",
    "encoder_pos_out = encoder_pos_dists.sample()\n",
    "\n",
    "dense_q = TimeDistributed(Dense(3))(training_decoder_output) #Logits\n",
    "encoder_q_out = tf.one_hot(tf.argmax(dense_q,axis=-1),depth=3)\n",
    "\n",
    "out_strokes = Concatenate()([encoder_pos_out,encoder_q_out])\n",
    "\n",
    "encoder_log_probs_pos = encoder_pos_dists.log_prob(encoder_inputs[...,:2])\n",
    "loss_pos = -tf.reduce_mean(tf.reduce_sum(encoder_log_probs_pos,axis=-1))/max_seq_length\n",
    "\n",
    "input_inds = tf.argmax(encoder_inputs[...,2:],axis=-1)\n",
    "loss_q = tf.reduce_mean(tf.reduce_sum(tf.nn.sparse_softmax_cross_entropy_with_logits(\n",
    "    labels=input_inds,\n",
    "    logits=dense_q),axis=-1))/max_seq_length\n",
    "\n",
    "loss_KL = tf.reduce_mean(tfd.kl_divergence(prior_dist,encoder_dist))\n",
    "w_kl = 1.0\n",
    "total_loss = (loss_pos+loss_q + w_kl * loss_KL)\n",
    "\n",
    "train = tf.train.AdamOptimizer().minimize(total_loss)\n",
    "\n",
    "tf.global_variables_initializer().run() "
   ]
  },
  {
   "cell_type": "code",
   "execution_count": 308,
   "metadata": {},
   "outputs": [
    {
     "name": "stdout",
     "output_type": "stream",
     "text": [
      "0 1.9621129 1.106455 0.37718418\n",
      "1 1.8694141 0.92582583 0.17714801\n",
      "2 1.7906665 0.8086193 0.09753885\n",
      "3 1.6257244 0.67892694 0.07167883\n",
      "4 1.4664887 0.61016357 0.07073963\n",
      "5 1.1780194 0.526206 0.08363372\n",
      "6 0.74745756 0.44510835 0.09886841\n",
      "7 0.53646326 0.4814762 0.11493318\n",
      "8 0.8157744 0.47896448 0.10683352\n",
      "9 0.87124896 0.39083472 0.08550988\n",
      "10 0.91763705 0.375899 0.06932347\n",
      "11 0.5627082 0.3615176 0.05076037\n",
      "12 0.5011256 0.32815403 0.040925883\n",
      "13 0.67242247 0.31220192 0.03448221\n",
      "14 0.57788664 0.3122598 0.031964406\n",
      "15 0.36809668 0.28147975 0.031238422\n",
      "16 0.53349847 0.28422412 0.02599555\n",
      "17 0.30771106 0.28505632 0.024464477\n",
      "18 0.29553914 0.2663638 0.024448184\n",
      "19 0.21722971 0.2713938 0.023081215\n",
      "20 0.52844936 0.25637168 0.024421133\n",
      "21 0.1578579 0.2542927 0.022716813\n",
      "22 0.2860102 0.25295964 0.01987657\n",
      "23 0.23916978 0.24323028 0.019057853\n",
      "24 0.21009018 0.24112019 0.019372154\n",
      "25 0.31803802 0.23535624 0.018597452\n",
      "26 0.38319507 0.23658815 0.018734107\n",
      "27 0.13704526 0.23242325 0.01562724\n",
      "28 0.2357369 0.22617246 0.014081721\n",
      "29 0.21895465 0.22427309 0.012697454\n",
      "30 0.2704759 0.22624095 0.013196953\n",
      "31 0.4490243 0.22316314 0.011819435\n",
      "32 0.37414053 0.21822126 0.010925564\n",
      "33 0.38884622 0.21406953 0.009782055\n",
      "34 0.22120366 0.21329892 0.009645783\n",
      "35 0.19385333 0.20632936 0.009853575\n",
      "36 0.18413955 0.20825328 0.01071806\n",
      "37 0.09903616 0.20582068 0.009818861\n",
      "38 0.3082611 0.20388925 0.009918831\n",
      "39 -0.11897537 0.21396345 0.008330022\n",
      "40 -0.09079146 0.20429932 0.007896793\n",
      "41 -0.26180834 0.19864361 0.007722801\n",
      "42 -0.17396115 0.2023972 0.008384337\n",
      "43 -0.20562682 0.2083685 0.007991179\n",
      "44 -0.28650832 0.2017938 0.008008623\n",
      "45 -0.6303123 0.18329595 0.008495506\n",
      "46 -0.24688922 0.18007351 0.007911574\n",
      "47 -0.45100102 0.17808764 0.007827623\n",
      "48 -0.5755705 0.16158444 0.0076447413\n",
      "49 -0.6566889 0.16389972 0.0071328264\n",
      "50 -0.1361094 0.15473849 0.0069663823\n",
      "51 -0.35170987 0.16017108 0.0070127035\n",
      "52 -0.53097683 0.1727207 0.007572553\n",
      "53 -0.68019104 0.16174048 0.007377393\n",
      "54 -0.24209091 0.15582384 0.007066214\n",
      "55 -0.44770983 0.1513327 0.006625805\n",
      "56 -0.6294196 0.15087238 0.0065242015\n",
      "57 -0.6057604 0.15088402 0.00689345\n",
      "58 -0.6234142 0.15316795 0.0067535066\n",
      "59 -0.60563844 0.15539703 0.005909248\n",
      "60 -0.7628693 0.15343021 0.005849357\n",
      "61 -0.9168006 0.14853409 0.005670465\n",
      "62 -0.9951724 0.15523975 0.006791231\n",
      "63 -1.1276611 0.1512245 0.0064808317\n",
      "64 -1.1126953 0.15077868 0.006908071\n",
      "65 -1.3537802 0.158629 0.007659331\n",
      "66 -0.93736494 0.15910195 0.0077635543\n",
      "67 -0.06418544 0.14680487 0.008672513\n",
      "68 -1.1670825 0.14017263 0.008076447\n",
      "69 -0.7293056 0.13631168 0.007845528\n",
      "70 -0.90050495 0.12928246 0.007280516\n",
      "71 -0.9221755 0.13051781 0.0075340522\n",
      "72 -0.9220575 0.13172682 0.007720309\n",
      "73 -0.69786304 0.12671869 0.007701883\n",
      "74 -0.63972706 0.12790999 0.007561302\n",
      "75 -0.89732534 0.12623711 0.0071361684\n",
      "76 -0.96026164 0.12880136 0.0065538567\n",
      "77 -0.9044201 0.12678207 0.006544216\n",
      "78 -0.90741384 0.13551216 0.0065503228\n",
      "79 -1.0898198 0.13875629 0.0068613263\n",
      "80 -1.017242 0.14254646 0.0070715128\n",
      "81 -1.1177206 0.13736436 0.006879183\n",
      "82 -1.1924433 0.15227354 0.0065080095\n",
      "83 -1.0890825 0.15987693 0.0061235363\n",
      "84 -1.4058955 0.15286809 0.0059267674\n",
      "85 -1.4438314 0.14891645 0.0058288933\n",
      "86 -1.4208335 0.1286515 0.006076942\n",
      "87 -1.5309417 0.1217988 0.006119443\n",
      "88 -1.5930113 0.11493688 0.0063835992\n",
      "89 -1.7920144 0.11724257 0.006917739\n",
      "90 -1.6940494 0.115059525 0.006843624\n",
      "91 -1.9088879 0.11987122 0.0068381075\n",
      "92 -1.9031793 0.10966978 0.006772342\n",
      "93 -1.8451864 0.11049689 0.0069416226\n",
      "94 -1.8523743 0.11676921 0.0069209947\n",
      "95 -1.7224319 0.1192 0.007240195\n",
      "96 -1.3064065 0.124783054 0.008142563\n",
      "97 -1.6174574 0.11959861 0.008461915\n",
      "98 -1.2319115 0.11105797 0.009673717\n",
      "99 -0.44682103 0.10830545 0.010520449\n",
      "100 -1.0533634 0.10084086 0.011024501\n",
      "101 -0.77247036 0.10661193 0.011468751\n",
      "102 -0.9491097 0.11362022 0.011997035\n",
      "103 -0.6278599 0.10578119 0.012175233\n",
      "104 -0.7332012 0.10854333 0.011443322\n",
      "105 -0.83392 0.101058535 0.010291462\n",
      "106 -0.78981745 0.10768931 0.009573733\n",
      "107 -0.72111183 0.110744305 0.008584086\n",
      "108 -0.76337266 0.10878278 0.008438112\n",
      "109 -0.7451194 0.11480165 0.008064436\n",
      "110 -0.726956 0.12001905 0.007364218\n",
      "111 -0.7639506 0.12514025 0.0072167553\n",
      "112 -0.78059924 0.13910083 0.0063451887\n",
      "113 -0.8994274 0.12631685 0.0057770326\n",
      "114 -0.91613275 0.12948802 0.005478278\n",
      "115 -1.0251805 0.123792164 0.0051396326\n",
      "116 -1.0807894 0.118727095 0.0052557006\n"
     ]
    },
    {
     "ename": "KeyboardInterrupt",
     "evalue": "",
     "output_type": "error",
     "traceback": [
      "\u001b[0;31m---------------------------------------------------------------------------\u001b[0m",
      "\u001b[0;31mKeyboardInterrupt\u001b[0m                         Traceback (most recent call last)",
      "\u001b[0;32m<ipython-input-308-159b3894eac7>\u001b[0m in \u001b[0;36m<module>\u001b[0;34m()\u001b[0m\n\u001b[1;32m      1\u001b[0m \u001b[0;32mfor\u001b[0m \u001b[0mi\u001b[0m \u001b[0;32min\u001b[0m \u001b[0mrange\u001b[0m\u001b[0;34m(\u001b[0m\u001b[0mdl\u001b[0m\u001b[0;34m.\u001b[0m\u001b[0mnum_batches\u001b[0m\u001b[0;34m)\u001b[0m\u001b[0;34m:\u001b[0m\u001b[0;34m\u001b[0m\u001b[0m\n\u001b[1;32m      2\u001b[0m     \u001b[0m_\u001b[0m\u001b[0;34m,\u001b[0m\u001b[0mbatch\u001b[0m\u001b[0;34m,\u001b[0m\u001b[0m_\u001b[0m \u001b[0;34m=\u001b[0m \u001b[0mdl\u001b[0m\u001b[0;34m.\u001b[0m\u001b[0mget_batch\u001b[0m\u001b[0;34m(\u001b[0m\u001b[0mi\u001b[0m\u001b[0;34m)\u001b[0m\u001b[0;34m\u001b[0m\u001b[0m\n\u001b[0;32m----> 3\u001b[0;31m     \u001b[0m_\u001b[0m\u001b[0;34m,\u001b[0m\u001b[0mlosses_pos\u001b[0m\u001b[0;34m,\u001b[0m\u001b[0mlosses_q\u001b[0m\u001b[0;34m,\u001b[0m\u001b[0mlosses_KL\u001b[0m \u001b[0;34m=\u001b[0m \u001b[0msess\u001b[0m\u001b[0;34m.\u001b[0m\u001b[0mrun\u001b[0m\u001b[0;34m(\u001b[0m\u001b[0;34m[\u001b[0m\u001b[0mtrain\u001b[0m\u001b[0;34m,\u001b[0m\u001b[0mloss_pos\u001b[0m\u001b[0;34m,\u001b[0m\u001b[0mloss_q\u001b[0m\u001b[0;34m,\u001b[0m\u001b[0mloss_KL\u001b[0m\u001b[0;34m]\u001b[0m\u001b[0;34m,\u001b[0m\u001b[0mfeed_dict\u001b[0m \u001b[0;34m=\u001b[0m \u001b[0;34m{\u001b[0m\u001b[0mencoder_inputs\u001b[0m \u001b[0;34m:\u001b[0m \u001b[0mbatch\u001b[0m\u001b[0;34m}\u001b[0m\u001b[0;34m)\u001b[0m\u001b[0;34m\u001b[0m\u001b[0m\n\u001b[0m\u001b[1;32m      4\u001b[0m     \u001b[0mprint\u001b[0m\u001b[0;34m(\u001b[0m\u001b[0mi\u001b[0m\u001b[0;34m,\u001b[0m\u001b[0mlosses_pos\u001b[0m\u001b[0;34m,\u001b[0m\u001b[0mlosses_q\u001b[0m\u001b[0;34m,\u001b[0m\u001b[0mlosses_KL\u001b[0m\u001b[0;34m)\u001b[0m\u001b[0;34m\u001b[0m\u001b[0m\n",
      "\u001b[0;32m~/miniconda3/envs/py36/lib/python3.6/site-packages/tensorflow/python/client/session.py\u001b[0m in \u001b[0;36mrun\u001b[0;34m(self, fetches, feed_dict, options, run_metadata)\u001b[0m\n\u001b[1;32m    875\u001b[0m     \u001b[0;32mtry\u001b[0m\u001b[0;34m:\u001b[0m\u001b[0;34m\u001b[0m\u001b[0m\n\u001b[1;32m    876\u001b[0m       result = self._run(None, fetches, feed_dict, options_ptr,\n\u001b[0;32m--> 877\u001b[0;31m                          run_metadata_ptr)\n\u001b[0m\u001b[1;32m    878\u001b[0m       \u001b[0;32mif\u001b[0m \u001b[0mrun_metadata\u001b[0m\u001b[0;34m:\u001b[0m\u001b[0;34m\u001b[0m\u001b[0m\n\u001b[1;32m    879\u001b[0m         \u001b[0mproto_data\u001b[0m \u001b[0;34m=\u001b[0m \u001b[0mtf_session\u001b[0m\u001b[0;34m.\u001b[0m\u001b[0mTF_GetBuffer\u001b[0m\u001b[0;34m(\u001b[0m\u001b[0mrun_metadata_ptr\u001b[0m\u001b[0;34m)\u001b[0m\u001b[0;34m\u001b[0m\u001b[0m\n",
      "\u001b[0;32m~/miniconda3/envs/py36/lib/python3.6/site-packages/tensorflow/python/client/session.py\u001b[0m in \u001b[0;36m_run\u001b[0;34m(self, handle, fetches, feed_dict, options, run_metadata)\u001b[0m\n\u001b[1;32m   1098\u001b[0m     \u001b[0;32mif\u001b[0m \u001b[0mfinal_fetches\u001b[0m \u001b[0;32mor\u001b[0m \u001b[0mfinal_targets\u001b[0m \u001b[0;32mor\u001b[0m \u001b[0;34m(\u001b[0m\u001b[0mhandle\u001b[0m \u001b[0;32mand\u001b[0m \u001b[0mfeed_dict_tensor\u001b[0m\u001b[0;34m)\u001b[0m\u001b[0;34m:\u001b[0m\u001b[0;34m\u001b[0m\u001b[0m\n\u001b[1;32m   1099\u001b[0m       results = self._do_run(handle, final_targets, final_fetches,\n\u001b[0;32m-> 1100\u001b[0;31m                              feed_dict_tensor, options, run_metadata)\n\u001b[0m\u001b[1;32m   1101\u001b[0m     \u001b[0;32melse\u001b[0m\u001b[0;34m:\u001b[0m\u001b[0;34m\u001b[0m\u001b[0m\n\u001b[1;32m   1102\u001b[0m       \u001b[0mresults\u001b[0m \u001b[0;34m=\u001b[0m \u001b[0;34m[\u001b[0m\u001b[0;34m]\u001b[0m\u001b[0;34m\u001b[0m\u001b[0m\n",
      "\u001b[0;32m~/miniconda3/envs/py36/lib/python3.6/site-packages/tensorflow/python/client/session.py\u001b[0m in \u001b[0;36m_do_run\u001b[0;34m(self, handle, target_list, fetch_list, feed_dict, options, run_metadata)\u001b[0m\n\u001b[1;32m   1270\u001b[0m     \u001b[0;32mif\u001b[0m \u001b[0mhandle\u001b[0m \u001b[0;32mis\u001b[0m \u001b[0;32mNone\u001b[0m\u001b[0;34m:\u001b[0m\u001b[0;34m\u001b[0m\u001b[0m\n\u001b[1;32m   1271\u001b[0m       return self._do_call(_run_fn, feeds, fetches, targets, options,\n\u001b[0;32m-> 1272\u001b[0;31m                            run_metadata)\n\u001b[0m\u001b[1;32m   1273\u001b[0m     \u001b[0;32melse\u001b[0m\u001b[0;34m:\u001b[0m\u001b[0;34m\u001b[0m\u001b[0m\n\u001b[1;32m   1274\u001b[0m       \u001b[0;32mreturn\u001b[0m \u001b[0mself\u001b[0m\u001b[0;34m.\u001b[0m\u001b[0m_do_call\u001b[0m\u001b[0;34m(\u001b[0m\u001b[0m_prun_fn\u001b[0m\u001b[0;34m,\u001b[0m \u001b[0mhandle\u001b[0m\u001b[0;34m,\u001b[0m \u001b[0mfeeds\u001b[0m\u001b[0;34m,\u001b[0m \u001b[0mfetches\u001b[0m\u001b[0;34m)\u001b[0m\u001b[0;34m\u001b[0m\u001b[0m\n",
      "\u001b[0;32m~/miniconda3/envs/py36/lib/python3.6/site-packages/tensorflow/python/client/session.py\u001b[0m in \u001b[0;36m_do_call\u001b[0;34m(self, fn, *args)\u001b[0m\n\u001b[1;32m   1276\u001b[0m   \u001b[0;32mdef\u001b[0m \u001b[0m_do_call\u001b[0m\u001b[0;34m(\u001b[0m\u001b[0mself\u001b[0m\u001b[0;34m,\u001b[0m \u001b[0mfn\u001b[0m\u001b[0;34m,\u001b[0m \u001b[0;34m*\u001b[0m\u001b[0margs\u001b[0m\u001b[0;34m)\u001b[0m\u001b[0;34m:\u001b[0m\u001b[0;34m\u001b[0m\u001b[0m\n\u001b[1;32m   1277\u001b[0m     \u001b[0;32mtry\u001b[0m\u001b[0;34m:\u001b[0m\u001b[0;34m\u001b[0m\u001b[0m\n\u001b[0;32m-> 1278\u001b[0;31m       \u001b[0;32mreturn\u001b[0m \u001b[0mfn\u001b[0m\u001b[0;34m(\u001b[0m\u001b[0;34m*\u001b[0m\u001b[0margs\u001b[0m\u001b[0;34m)\u001b[0m\u001b[0;34m\u001b[0m\u001b[0m\n\u001b[0m\u001b[1;32m   1279\u001b[0m     \u001b[0;32mexcept\u001b[0m \u001b[0merrors\u001b[0m\u001b[0;34m.\u001b[0m\u001b[0mOpError\u001b[0m \u001b[0;32mas\u001b[0m \u001b[0me\u001b[0m\u001b[0;34m:\u001b[0m\u001b[0;34m\u001b[0m\u001b[0m\n\u001b[1;32m   1280\u001b[0m       \u001b[0mmessage\u001b[0m \u001b[0;34m=\u001b[0m \u001b[0mcompat\u001b[0m\u001b[0;34m.\u001b[0m\u001b[0mas_text\u001b[0m\u001b[0;34m(\u001b[0m\u001b[0me\u001b[0m\u001b[0;34m.\u001b[0m\u001b[0mmessage\u001b[0m\u001b[0;34m)\u001b[0m\u001b[0;34m\u001b[0m\u001b[0m\n",
      "\u001b[0;32m~/miniconda3/envs/py36/lib/python3.6/site-packages/tensorflow/python/client/session.py\u001b[0m in \u001b[0;36m_run_fn\u001b[0;34m(feed_dict, fetch_list, target_list, options, run_metadata)\u001b[0m\n\u001b[1;32m   1261\u001b[0m       \u001b[0mself\u001b[0m\u001b[0;34m.\u001b[0m\u001b[0m_extend_graph\u001b[0m\u001b[0;34m(\u001b[0m\u001b[0;34m)\u001b[0m\u001b[0;34m\u001b[0m\u001b[0m\n\u001b[1;32m   1262\u001b[0m       return self._call_tf_sessionrun(\n\u001b[0;32m-> 1263\u001b[0;31m           options, feed_dict, fetch_list, target_list, run_metadata)\n\u001b[0m\u001b[1;32m   1264\u001b[0m \u001b[0;34m\u001b[0m\u001b[0m\n\u001b[1;32m   1265\u001b[0m     \u001b[0;32mdef\u001b[0m \u001b[0m_prun_fn\u001b[0m\u001b[0;34m(\u001b[0m\u001b[0mhandle\u001b[0m\u001b[0;34m,\u001b[0m \u001b[0mfeed_dict\u001b[0m\u001b[0;34m,\u001b[0m \u001b[0mfetch_list\u001b[0m\u001b[0;34m)\u001b[0m\u001b[0;34m:\u001b[0m\u001b[0;34m\u001b[0m\u001b[0m\n",
      "\u001b[0;32m~/miniconda3/envs/py36/lib/python3.6/site-packages/tensorflow/python/client/session.py\u001b[0m in \u001b[0;36m_call_tf_sessionrun\u001b[0;34m(self, options, feed_dict, fetch_list, target_list, run_metadata)\u001b[0m\n\u001b[1;32m   1348\u001b[0m     return tf_session.TF_SessionRun_wrapper(\n\u001b[1;32m   1349\u001b[0m         \u001b[0mself\u001b[0m\u001b[0;34m.\u001b[0m\u001b[0m_session\u001b[0m\u001b[0;34m,\u001b[0m \u001b[0moptions\u001b[0m\u001b[0;34m,\u001b[0m \u001b[0mfeed_dict\u001b[0m\u001b[0;34m,\u001b[0m \u001b[0mfetch_list\u001b[0m\u001b[0;34m,\u001b[0m \u001b[0mtarget_list\u001b[0m\u001b[0;34m,\u001b[0m\u001b[0;34m\u001b[0m\u001b[0m\n\u001b[0;32m-> 1350\u001b[0;31m         run_metadata)\n\u001b[0m\u001b[1;32m   1351\u001b[0m \u001b[0;34m\u001b[0m\u001b[0m\n\u001b[1;32m   1352\u001b[0m   \u001b[0;32mdef\u001b[0m \u001b[0m_call_tf_sessionprun\u001b[0m\u001b[0;34m(\u001b[0m\u001b[0mself\u001b[0m\u001b[0;34m,\u001b[0m \u001b[0mhandle\u001b[0m\u001b[0;34m,\u001b[0m \u001b[0mfeed_dict\u001b[0m\u001b[0;34m,\u001b[0m \u001b[0mfetch_list\u001b[0m\u001b[0;34m)\u001b[0m\u001b[0;34m:\u001b[0m\u001b[0;34m\u001b[0m\u001b[0m\n",
      "\u001b[0;31mKeyboardInterrupt\u001b[0m: "
     ]
    }
   ],
   "source": [
    "for i in range(dl.num_batches):\n",
    "    _,batch,_ = dl.get_batch(i)\n",
    "    _,losses_pos,losses_q,losses_KL = sess.run([train,loss_pos,loss_q,loss_KL],feed_dict = {encoder_inputs : batch})\n",
    "    print(i,losses_pos,losses_q,losses_KL)"
   ]
  },
  {
   "cell_type": "code",
   "execution_count": 315,
   "metadata": {},
   "outputs": [
    {
     "data": {
      "image/png": "[encoded data removed]",
      "text/plain": [
       "<Figure size 432x288 with 1 Axes>"
      ]
     },
     "metadata": {
      "needs_background": "light"
     },
     "output_type": "display_data"
    }
   ],
   "source": [
    "batch_t = batch[30]\n",
    "\n",
    "lines = strokes_to_lines(to_normal_strokes(batch_t))\n",
    "plt.figure()\n",
    "for line in lines:\n",
    "    line = np.array(line)\n",
    "    plt.plot(line[:,0],-line[:,1])\n",
    "plt.show()\n",
    "\n",
    "pred = out_strokes.eval(feed_dict = {encoder_inputs : [batch_t]})[0]"
   ]
  },
  {
   "cell_type": "code",
   "execution_count": 316,
   "metadata": {},
   "outputs": [
    {
     "data": {
      "image/png": "[encoded data removed]",
      "text/plain": [
       "<Figure size 432x288 with 1 Axes>"
      ]
     },
     "metadata": {
      "needs_background": "light"
     },
     "output_type": "display_data"
    }
   ],
   "source": [
    "lines = strokes_to_lines(to_normal_strokes(pred))\n",
    "plt.figure()\n",
    "for line in lines:\n",
    "    line = np.array(line)\n",
    "    plt.plot(line[:,0],-line[:,1])\n",
    "plt.show()\n",
    "plt.close()"
   ]
  },
  {
   "cell_type": "code",
   "execution_count": null,
   "metadata": {},
   "outputs": [],
   "source": []
  }
 ],
 "metadata": {
  "kernelspec": {
   "display_name": "Python 3",
   "language": "python",
   "name": "python3"
  },
  "language_info": {
   "codemirror_mode": {
    "name": "ipython",
    "version": 3
   },
   "file_extension": ".py",
   "mimetype": "text/x-python",
   "name": "python",
   "nbconvert_exporter": "python",
   "pygments_lexer": "ipython3",
   "version": "3.6.6"
  }
 },
 "nbformat": 4,
 "nbformat_minor": 2
}
