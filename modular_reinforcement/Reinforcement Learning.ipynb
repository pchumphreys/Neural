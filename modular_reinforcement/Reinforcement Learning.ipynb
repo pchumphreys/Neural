{
 "cells": [
  {
   "cell_type": "code",
   "execution_count": 1,
   "metadata": {
    "scrolled": false
   },
   "outputs": [
    {
     "name": "stderr",
     "output_type": "stream",
     "text": [
      "//anaconda/envs/tensorflow/lib/python3.6/site-packages/h5py/__init__.py:36: FutureWarning: Conversion of the second argument of issubdtype from `float` to `np.floating` is deprecated. In future, it will be treated as `np.float64 == np.dtype(float).type`.\n",
      "  from ._conv import register_converters as _register_converters\n"
     ]
    }
   ],
   "source": [
    "%load_ext autoreload\n",
    "% autoreload 2\n",
    "from matplotlib import pyplot as plt\n",
    "from matplotlib.figure import Figure\n",
    "%matplotlib inline\n",
    "import reinforcement_expm\n",
    "import numpy as np\n",
    "import tensorflow as tf\n",
    "from agents import load_expm_params\n",
    "import copy\n",
    "from IPython.display import clear_output\n",
    "import os\n",
    "# from IPython.core.debugger import set_trace; set_trace()\n",
    "\n",
    "def episode_finished_callback(runner,persistent_to_print = []):\n",
    "    if runner.episodes % 1 == 0:\n",
    "        clear_output(wait=True)\n",
    "        for ptp in persistent_to_print:\n",
    "            if isinstance(ptp,Figure):\n",
    "                display(ptp)\n",
    "            print(ptp)\n",
    "        print('logging in %s:' % runner.log_dir)\n",
    "        print('Average reward at episode %d : %d' % (runner.episodes,np.mean(runner.episode_rewards[-100:])))\n",
    "        print('Avg sample time is %f (ms)' % (1000*runner.avg_sample_time))\n",
    "        print('Avg train time is %f (ms)' % ((runner.global_trains/runner.global_t)*(1000*runner.avg_train_time)))\n",
    "        \n",
    "        if len(runner.current_episode_losses):\n",
    "            plt.figure(figsize=[13,3])\n",
    "        \n",
    "            num_losses = np.shape(runner.episode_average_losses)[1]\n",
    "\n",
    "            ax1 = plt.subplot2grid((1,num_losses+2), (0, 0), colspan=2)\n",
    "            plt.plot(runner.episode_rewards)\n",
    "            plt.xlabel('Episode')\n",
    "            plt.ylabel('Rewards')\n",
    "        \n",
    "            for i in range(num_losses):\n",
    "                ax = plt.subplot2grid((1,num_losses+2), (0, 2 + i))\n",
    "                plt.plot(runner.episode_average_losses[:,i])\n",
    "                plt.xlabel('Episode')\n",
    "                plt.ylabel('Losses')\n",
    "        plt.show()\n",
    "        plt.close()\n",
    "        \n",
    "        \n",
    "        \n",
    "reinforcement_expm.clear_logs() # Do some housekeeping"
   ]
  },
  {
   "cell_type": "code",
   "execution_count": 2,
   "metadata": {
    "scrolled": false
   },
   "outputs": [
    {
     "name": "stdout",
     "output_type": "stream",
     "text": [
      "logging in /tmp/tensorflow/logs/reinforcement_learning/DQN_Breakout_20180822_174340:\n",
      "Average reward at episode 24 : 0\n",
      "Avg sample time is 3.017650 (ms)\n",
      "Avg train time is 97.414346 (ms)\n"
     ]
    },
    {
     "data": {
      "image/png": "[encoded data removed]",
      "text/plain": [
       "<matplotlib.figure.Figure at 0x10d605e10>"
      ]
     },
     "metadata": {},
     "output_type": "display_data"
    },
    {
     "name": "stdout",
     "output_type": "stream",
     "text": [
      "Finished experiment, logged in: /tmp/tensorflow/logs/reinforcement_learning/DQN_Breakout_20180822_174340\n"
     ]
    }
   ],
   "source": [
    "algorithm = 'DQN'\n",
    "expm_name = 'Breakout'\n",
    "runner = reinforcement_expm.run_expm(algorithm,expm_name,episode_finished_callback=episode_finished_callback)"
   ]
  },
  {
   "cell_type": "code",
   "execution_count": 9,
   "metadata": {},
   "outputs": [
    {
     "name": "stdout",
     "output_type": "stream",
     "text": [
      "INFO:tensorflow:Restoring parameters from /tmp/tensorflow/logs/reinforcement_learning/TDM_Breakout_20180820_225259/final_model\n",
      "Model restored.\n",
      "Episode reward is 0\n"
     ]
    }
   ],
   "source": [
    "algorithm = 'TDM'\n",
    "expm_name = 'Breakout'\n",
    "# model_path = '/tmp/tensorflow/logs/reinforcement_learning/DQN/LunarLander/20180809_162357'\n",
    "model_path = '/tmp/tensorflow/logs/reinforcement_learning/TDM_Breakout_20180820_225259'\n",
    "runner = reinforcement_expm.setup_expm(algorithm,expm_name,restore_model_path = model_path)\n",
    "runner.test(render=True,optimal_action=False)\n"
   ]
  },
  {
   "cell_type": "code",
   "execution_count": 7,
   "metadata": {
    "scrolled": false
   },
   "outputs": [
    {
     "name": "stdout",
     "output_type": "stream",
     "text": [
      "\u001b[33mWARN: gym.spaces.Box autodetected dtype as <class 'numpy.float32'>. Please provide explicit dtype.\u001b[0m\n",
      "Keyboard interupt detected\n",
      "Finished experiment, logged in: /tmp/tensorflow/logs/reinforcement_learning/TDM_LunarLander_20180820_221504\n"
     ]
    },
    {
     "ename": "ValueError",
     "evalue": "cannot copy sequence with size 13 to array axis with dimension 500",
     "output_type": "error",
     "traceback": [
      "\u001b[0;31m---------------------------------------------------------------------------\u001b[0m",
      "\u001b[0;31mValueError\u001b[0m                                Traceback (most recent call last)",
      "\u001b[0;32m<ipython-input-7-897af51355a2>\u001b[0m in \u001b[0;36m<module>\u001b[0;34m()\u001b[0m\n\u001b[1;32m      9\u001b[0m \u001b[0;34m\u001b[0m\u001b[0m\n\u001b[1;32m     10\u001b[0m \u001b[0;34m\u001b[0m\u001b[0m\n\u001b[0;32m---> 11\u001b[0;31m \u001b[0mrewards\u001b[0m \u001b[0;34m=\u001b[0m \u001b[0mreinforcement_expm\u001b[0m\u001b[0;34m.\u001b[0m\u001b[0msweep_test_cases\u001b[0m\u001b[0;34m(\u001b[0m\u001b[0malgorithm\u001b[0m\u001b[0;34m,\u001b[0m\u001b[0mexpm_name\u001b[0m\u001b[0;34m,\u001b[0m\u001b[0mtest_case_params\u001b[0m\u001b[0;34m,\u001b[0m\u001b[0mruns_per_point\u001b[0m \u001b[0;34m=\u001b[0m \u001b[0;36m3\u001b[0m\u001b[0;34m,\u001b[0m\u001b[0mepisode_finished_callback\u001b[0m\u001b[0;34m=\u001b[0m\u001b[0mepisode_finished_callback\u001b[0m\u001b[0;34m)\u001b[0m\u001b[0;34m\u001b[0m\u001b[0m\n\u001b[0m\u001b[1;32m     12\u001b[0m \u001b[0;34m\u001b[0m\u001b[0m\n\u001b[1;32m     13\u001b[0m \u001b[0;34m\u001b[0m\u001b[0m\n",
      "\u001b[0;32m~/Repositories/Neural/modular_reinforcement/reinforcement_expm.py\u001b[0m in \u001b[0;36msweep_test_cases\u001b[0;34m(algorithm, expm_name, test_case_params, params, runs_per_point, episode_finished_callback, use_AWS)\u001b[0m\n\u001b[1;32m    197\u001b[0m \u001b[0;34m\u001b[0m\u001b[0m\n\u001b[1;32m    198\u001b[0m                                 \u001b[0mrunner\u001b[0m \u001b[0;34m=\u001b[0m \u001b[0mrun_expm\u001b[0m\u001b[0;34m(\u001b[0m\u001b[0malgorithm\u001b[0m\u001b[0;34m,\u001b[0m\u001b[0mexpm_name\u001b[0m\u001b[0;34m,\u001b[0m \u001b[0mparams\u001b[0m \u001b[0;34m=\u001b[0m \u001b[0mtest_params\u001b[0m\u001b[0;34m,\u001b[0m\u001b[0mepisode_finished_callback\u001b[0m\u001b[0;34m=\u001b[0m \u001b[0mepisode_finished_callback\u001b[0m\u001b[0;34m,\u001b[0m \u001b[0mpersistent_to_print\u001b[0m\u001b[0;34m=\u001b[0m\u001b[0mpersistent_to_print\u001b[0m\u001b[0;34m,\u001b[0m\u001b[0muse_AWS\u001b[0m\u001b[0;34m=\u001b[0m\u001b[0muse_AWS\u001b[0m\u001b[0;34m)\u001b[0m\u001b[0;34m\u001b[0m\u001b[0m\n\u001b[0;32m--> 199\u001b[0;31m                                 \u001b[0mrewards\u001b[0m\u001b[0;34m[\u001b[0m\u001b[0mi\u001b[0m\u001b[0;34m,\u001b[0m\u001b[0mj\u001b[0m\u001b[0;34m]\u001b[0m \u001b[0;34m=\u001b[0m \u001b[0mrunner\u001b[0m\u001b[0;34m.\u001b[0m\u001b[0mepisode_rewards\u001b[0m\u001b[0;34m\u001b[0m\u001b[0m\n\u001b[0m\u001b[1;32m    200\u001b[0m \u001b[0;34m\u001b[0m\u001b[0m\n\u001b[1;32m    201\u001b[0m                                 \u001b[0mrewards\u001b[0m\u001b[0;34m.\u001b[0m\u001b[0mtofile\u001b[0m\u001b[0;34m(\u001b[0m\u001b[0mos\u001b[0m\u001b[0;34m.\u001b[0m\u001b[0mpath\u001b[0m\u001b[0;34m.\u001b[0m\u001b[0mjoin\u001b[0m\u001b[0;34m(\u001b[0m\u001b[0mlog_dir\u001b[0m\u001b[0;34m,\u001b[0m\u001b[0;34m'rewards.txt'\u001b[0m\u001b[0;34m)\u001b[0m\u001b[0;34m,\u001b[0m \u001b[0msep\u001b[0m\u001b[0;34m=\u001b[0m\u001b[0;34m\"\\t\"\u001b[0m\u001b[0;34m,\u001b[0m \u001b[0mformat\u001b[0m\u001b[0;34m=\u001b[0m\u001b[0;34m\"%s\"\u001b[0m\u001b[0;34m)\u001b[0m\u001b[0;34m\u001b[0m\u001b[0m\n",
      "\u001b[0;31mValueError\u001b[0m: cannot copy sequence with size 13 to array axis with dimension 500"
     ]
    }
   ],
   "source": [
    "algorithm = 'TDM'\n",
    "expm_name = 'LunarLander'\n",
    "\n",
    "test_case_params = {\n",
    "    '1' : dict(agent_params = dict(max_td = 1)),\n",
    "    '3' : dict(agent_params = dict(max_td = 3)),\n",
    "    '10' : dict(agent_params = dict(max_td = 10)),\n",
    "    }\n",
    "\n",
    "    \n",
    "rewards = reinforcement_expm.sweep_test_cases(algorithm,expm_name,test_case_params,runs_per_point = 3,episode_finished_callback=episode_finished_callback)\n",
    "\n",
    "   "
   ]
  },
  {
   "cell_type": "code",
   "execution_count": null,
   "metadata": {},
   "outputs": [],
   "source": []
  }
 ],
 "metadata": {
  "kernelspec": {
   "display_name": "Python 3",
   "language": "python",
   "name": "python3"
  },
  "language_info": {
   "codemirror_mode": {
    "name": "ipython",
    "version": 3
   },
   "file_extension": ".py",
   "mimetype": "text/x-python",
   "name": "python",
   "nbconvert_exporter": "python",
   "pygments_lexer": "ipython3",
   "version": "3.6.4"
  }
 },
 "nbformat": 4,
 "nbformat_minor": 2
}
