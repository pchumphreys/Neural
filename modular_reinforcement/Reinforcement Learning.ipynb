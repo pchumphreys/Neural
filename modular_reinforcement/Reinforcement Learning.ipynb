{
 "cells": [
  {
   "cell_type": "code",
   "execution_count": 4,
   "metadata": {},
   "outputs": [
    {
     "name": "stdout",
     "output_type": "stream",
     "text": [
      "The autoreload extension is already loaded. To reload it, use:\n",
      "  %reload_ext autoreload\n"
     ]
    }
   ],
   "source": [
    "%load_ext autoreload\n",
    "% autoreload 2\n",
    "from matplotlib import pyplot as plt\n",
    "%matplotlib inline\n",
    "import reinforcement_expm\n",
    "import numpy as np\n",
    "import tensorflow as tf\n",
    "from agents import load_expm_params\n",
    "import copy\n",
    "from IPython.display import clear_output\n",
    "\n",
    "def episode_finished_callback(runner):\n",
    "    if runner.episodes % 10 == 0:\n",
    "        clear_output(wait=True)\n",
    "        print('Average reward at episode %d : %d' % (runner.episodes,np.mean(runner.episode_rewards[-100:])))\n",
    "        print('Avg sample time is %f (ms)' % (1000*runner.avg_sample_time))\n",
    "        print('Avg train time is %f (ms)' % ((runner.global_trains/runner.global_t)*(1000*runner.avg_train_time)))\n",
    "                        \n",
    "        plt.figure(figsize=[4,3])\n",
    "        plt.plot(runner.episode_rewards)\n",
    "        plt.xlabel('Episode')\n",
    "        plt.ylabel('Rewards')\n",
    "        plt.show()\n",
    "        plt.close()\n",
    "        \n",
    "reinforcement_expm.clear_logs() # Do some housekeeping"
   ]
  },
  {
   "cell_type": "code",
   "execution_count": null,
   "metadata": {
    "scrolled": false
   },
   "outputs": [
    {
     "name": "stdout",
     "output_type": "stream",
     "text": [
      "Average reward at episode 20 : -188\n",
      "Avg sample time is 1.275798 (ms)\n",
      "Avg train time is 0.915754 (ms)\n"
     ]
    },
    {
     "data": {
      "image/png": "[encoded data removed]",
      "text/plain": [
       "<matplotlib.figure.Figure at 0x1c2aebdf28>"
      ]
     },
     "metadata": {},
     "output_type": "display_data"
    }
   ],
   "source": [
    "algorithm = 'DQN'\n",
    "expm_name = 'LunarLander'\n",
    "runner = reinforcement_expm.run_expm(algorithm,expm_name,episode_finished_callback=episode_finished_callback)"
   ]
  },
  {
   "cell_type": "code",
   "execution_count": null,
   "metadata": {},
   "outputs": [],
   "source": [
    "algorithm = 'PPO'\n",
    "expm_name = 'LunarLander'\n",
    "runner = reinforcement_expm.run_expm(algorithm,expm_name,episode_finished_callback=episode_finished_callback)"
   ]
  },
  {
   "cell_type": "code",
   "execution_count": null,
   "metadata": {},
   "outputs": [],
   "source": [
    "runner.test(render=True,optimal_action=True)"
   ]
  },
  {
   "cell_type": "code",
   "execution_count": null,
   "metadata": {},
   "outputs": [],
   "source": [
    "# algorithm = 'DQN'\n",
    "# expm_name = 'LunarLander_Soft'\n",
    "\n",
    "# # test_case_params = {\n",
    "# #     'soft/huber' : dict(agent_params = dict(soft_learning = True,huber_loss=True)),\n",
    "# #     'soft' : dict(agent_params = dict(soft_learning = True,huber_loss=False)),\n",
    "# #     'dueling/boltz' : dict(agent_params = dict(soft_learning = False,dueling =True), policy_params = dict(action_choice = 'Boltzmann')),\n",
    "# #     'boltz' : dict(agent_params = dict(soft_learning = False,dueling =False), policy_params = dict(action_choice = 'Boltzmann')),\n",
    "# #     'epsilon' : dict(agent_params = dict(soft_learning = False,dueling =True), policy_params = dict(action_choice = 'Epsilon'))\n",
    "# # }\n",
    "\n",
    "# test_case_params = {\n",
    "#     '32' : {'network_spec' : 2*[dict(type = 'dense',size=32)]},\n",
    "#     '64' : {'network_spec' : 2*[dict(type = 'dense',size=64)]},\n",
    "#     }\n",
    "\n",
    "\n",
    "    \n",
    "# rewards = reinforcement_expm.sweep_test_cases(algorithm,expm_name,test_case_params,runs_per_point = 2)\n",
    "\n",
    "   "
   ]
  }
 ],
 "metadata": {
  "kernelspec": {
   "display_name": "Python 3",
   "language": "python",
   "name": "python3"
  },
  "language_info": {
   "codemirror_mode": {
    "name": "ipython",
    "version": 3
   },
   "file_extension": ".py",
   "mimetype": "text/x-python",
   "name": "python",
   "nbconvert_exporter": "python",
   "pygments_lexer": "ipython3",
   "version": "3.6.4"
  }
 },
 "nbformat": 4,
 "nbformat_minor": 2
}
