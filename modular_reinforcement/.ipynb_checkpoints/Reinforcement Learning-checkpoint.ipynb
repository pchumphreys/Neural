{
 "cells": [
  {
   "cell_type": "code",
   "execution_count": 1,
   "metadata": {},
   "outputs": [
    {
     "name": "stderr",
     "output_type": "stream",
     "text": [
      "//anaconda/envs/tensorflow/lib/python3.6/site-packages/h5py/__init__.py:36: FutureWarning: Conversion of the second argument of issubdtype from `float` to `np.floating` is deprecated. In future, it will be treated as `np.float64 == np.dtype(float).type`.\n",
      "  from ._conv import register_converters as _register_converters\n"
     ]
    }
   ],
   "source": [
    "%load_ext autoreload\n",
    "% autoreload 2\n",
    "from matplotlib import pyplot as plt\n",
    "%matplotlib inline\n",
    "import reinforcement_expm\n",
    "import numpy as np\n",
    "import tensorflow as tf\n",
    "from agents import load_expm_params\n",
    "import copy\n",
    "from IPython.display import clear_output\n",
    "import os\n",
    "\n",
    "def episode_finished_callback(runner):\n",
    "    if runner.episodes % 10 == 0:\n",
    "        clear_output(wait=True)\n",
    "        print('Average reward at episode %d : %d' % (runner.episodes,np.mean(runner.episode_rewards[-100:])))\n",
    "        print('Avg sample time is %f (ms)' % (1000*runner.avg_sample_time))\n",
    "        print('Avg train time is %f (ms)' % ((runner.global_trains/runner.global_t)*(1000*runner.avg_train_time)))\n",
    "        \n",
    "        f, axarr = plt.subplots(2,1,figsize=[8,3])\n",
    "        axarr[0].plot(runner.episode_rewards)\n",
    "        axarr[0].xlabel('Episode')\n",
    "        axarr[0].ylabel('Rewards')\n",
    "        \n",
    "        axarr[1].plot(runner.episode_average_losses)\n",
    "        axarr[1].xlabel('Episode')\n",
    "        axarr[1].ylabel('Losses')\n",
    "        plt.show()\n",
    "        plt.close()\n",
    "        \n",
    "        \n",
    "        \n",
    "# reinforcement_expm.clear_logs() # Do some housekeeping"
   ]
  },
  {
   "cell_type": "code",
   "execution_count": null,
   "metadata": {
    "scrolled": false
   },
   "outputs": [
    {
     "name": "stdout",
     "output_type": "stream",
     "text": [
      "Average reward at episode 50 : 21\n",
      "Avg sample time is 0.547214 (ms)\n",
      "Avg train time is 1.867252 (ms)\n"
     ]
    }
   ],
   "source": [
    "algorithm = 'TDM'\n",
    "expm_name = 'CartPole'\n",
    "runner = reinforcement_expm.run_expm(algorithm,expm_name,episode_finished_callback=episode_finished_callback)"
   ]
  },
  {
   "cell_type": "code",
   "execution_count": null,
   "metadata": {},
   "outputs": [],
   "source": [
    "runner."
   ]
  },
  {
   "cell_type": "code",
   "execution_count": 5,
   "metadata": {},
   "outputs": [
    {
     "name": "stdout",
     "output_type": "stream",
     "text": [
      "logging in /tmp/tensorflow/logs/reinforcement_learning/DQN/LunarLander/20180810_130557:\n",
      "\u001b[33mWARN: gym.spaces.Box autodetected dtype as <class 'numpy.float32'>. Please provide explicit dtype.\u001b[0m\n",
      "INFO:tensorflow:Restoring parameters from /tmp/tensorflow/logs/reinforcement_learning/DQN/LunarLander/20180810_124529/model-500\n",
      "Model restored.\n",
      "Episode reward is -247\n"
     ]
    }
   ],
   "source": [
    "algorithm = 'DQN'\n",
    "expm_name = 'LunarLander'\n",
    "# model_path = '/tmp/tensorflow/logs/reinforcement_learning/DQN/LunarLander/20180809_162357'\n",
    "model_path = '/tmp/tensorflow/logs/reinforcement_learning/DQN/LunarLander/20180810_124529'\n",
    "runner = reinforcement_expm.setup_expm(algorithm,expm_name,restore_model_path = model_path)\n",
    "runner.test(render=True,optimal_action=True)\n"
   ]
  },
  {
   "cell_type": "code",
   "execution_count": 5,
   "metadata": {},
   "outputs": [],
   "source": [
    "# algorithm = 'DQN'\n",
    "# expm_name = 'LunarLander_Soft'\n",
    "\n",
    "# # test_case_params = {\n",
    "# #     'soft/huber' : dict(agent_params = dict(soft_learning = True,huber_loss=True)),\n",
    "# #     'soft' : dict(agent_params = dict(soft_learning = True,huber_loss=False)),\n",
    "# #     'dueling/boltz' : dict(agent_params = dict(soft_learning = False,dueling =True), policy_params = dict(action_choice = 'Boltzmann')),\n",
    "# #     'boltz' : dict(agent_params = dict(soft_learning = False,dueling =False), policy_params = dict(action_choice = 'Boltzmann')),\n",
    "# #     'epsilon' : dict(agent_params = dict(soft_learning = False,dueling =True), policy_params = dict(action_choice = 'Epsilon'))\n",
    "# # }\n",
    "\n",
    "# test_case_params = {\n",
    "#     '32' : {'network_spec' : 2*[dict(type = 'dense',size=32)]},\n",
    "#     '64' : {'network_spec' : 2*[dict(type = 'dense',size=64)]},\n",
    "#     }\n",
    "\n",
    "\n",
    "    \n",
    "# rewards = reinforcement_expm.sweep_test_cases(algorithm,expm_name,test_case_params,runs_per_point = 2)\n",
    "\n",
    "   "
   ]
  },
  {
   "cell_type": "code",
   "execution_count": null,
   "metadata": {},
   "outputs": [],
   "source": []
  }
 ],
 "metadata": {
  "kernelspec": {
   "display_name": "Python 3",
   "language": "python",
   "name": "python3"
  },
  "language_info": {
   "codemirror_mode": {
    "name": "ipython",
    "version": 3
   },
   "file_extension": ".py",
   "mimetype": "text/x-python",
   "name": "python",
   "nbconvert_exporter": "python",
   "pygments_lexer": "ipython3",
   "version": "3.6.4"
  }
 },
 "nbformat": 4,
 "nbformat_minor": 2
}
