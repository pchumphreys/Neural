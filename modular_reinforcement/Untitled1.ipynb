{
 "cells": [
  {
   "cell_type": "code",
   "execution_count": 6,
   "metadata": {},
   "outputs": [],
   "source": [
    "import numpy as np"
   ]
  },
  {
   "cell_type": "code",
   "execution_count": 16,
   "metadata": {},
   "outputs": [
    {
     "data": {
      "text/plain": [
       "True"
      ]
     },
     "execution_count": 16,
     "metadata": {},
     "output_type": "execute_result"
    }
   ],
   "source": [
    "a = (1,0)\n",
    "b = (1,0)\n",
    "a == b"
   ]
  },
  {
   "cell_type": "code",
   "execution_count": 33,
   "metadata": {
    "scrolled": false
   },
   "outputs": [
    {
     "name": "stdout",
     "output_type": "stream",
     "text": [
      "starting in 0000\n",
      "setting state to one 0000\n",
      "(1, 0, 0, 0)\n",
      "starting in 1000\n",
      "1\n",
      "already visited 1000\n",
      "(9, 0, 0, 0)\n",
      "starting in 9000\n",
      "1\n",
      "already visited 9000\n",
      "(0, 1, 0, 0)\n",
      "starting in 0100\n",
      "1\n",
      "already visited 0100\n",
      "(0, 9, 0, 0)\n",
      "starting in 0900\n",
      "1\n",
      "already visited 0900\n",
      "(0, 0, 1, 0)\n",
      "starting in 0010\n",
      "1\n",
      "already visited 0010\n",
      "(0, 0, 9, 0)\n",
      "starting in 0090\n",
      "1\n",
      "already visited 0090\n",
      "(0, 0, 0, 1)\n",
      "starting in 0001\n",
      "1\n",
      "already visited 0001\n",
      "(0, 0, 0, 9)\n",
      "starting in 0009\n",
      "setting state to one 0009\n",
      "(1, 0, 0, 9)\n",
      "starting in 1009\n",
      "1\n",
      "already visited 1009\n",
      "(9, 0, 0, 9)\n",
      "starting in 9009\n",
      "1\n",
      "already visited 9009\n",
      "(0, 1, 0, 9)\n",
      "starting in 0109\n",
      "1\n",
      "already visited 0109\n",
      "(0, 9, 0, 9)\n",
      "starting in 0909\n",
      "1\n",
      "already visited 0909\n",
      "(0, 0, 1, 9)\n",
      "starting in 0019\n",
      "1\n",
      "already visited 0019\n",
      "(0, 0, 9, 9)\n",
      "starting in 0099\n",
      "1\n",
      "already visited 0099\n",
      "(0, 0, 0, 0)\n",
      "starting in 0000\n",
      "1\n",
      "already visited 0000\n",
      "(0, 0, 0, 8)\n",
      "starting in 0008\n",
      "setting state to one 0008\n",
      "(1, 0, 0, 8)\n",
      "starting in 1008\n",
      "1\n",
      "already visited 1008\n",
      "(9, 0, 0, 8)\n",
      "starting in 9008\n",
      "1\n",
      "already visited 9008\n",
      "(0, 1, 0, 8)\n",
      "starting in 0108\n",
      "1\n",
      "already visited 0108\n",
      "(0, 9, 0, 8)\n",
      "starting in 0908\n",
      "1\n",
      "already visited 0908\n",
      "(0, 0, 1, 8)\n",
      "starting in 0018\n",
      "1\n",
      "already visited 0018\n",
      "(0, 0, 9, 8)\n",
      "starting in 0098\n",
      "1\n",
      "already visited 0098\n",
      "(0, 0, 0, 9)\n",
      "starting in 0009\n",
      "1\n",
      "already visited 0009\n",
      "(0, 0, 0, 7)\n",
      "starting in 0007\n",
      "setting state to one 0007\n",
      "(1, 0, 0, 7)\n",
      "starting in 1007\n",
      "1\n",
      "already visited 1007\n",
      "(9, 0, 0, 7)\n",
      "starting in 9007\n",
      "1\n",
      "already visited 9007\n",
      "(0, 1, 0, 7)\n",
      "starting in 0107\n",
      "1\n",
      "already visited 0107\n",
      "(0, 9, 0, 7)\n",
      "starting in 0907\n",
      "1\n",
      "already visited 0907\n",
      "(0, 0, 1, 7)\n",
      "starting in 0017\n",
      "1\n",
      "already visited 0017\n",
      "(0, 0, 9, 7)\n",
      "starting in 0097\n",
      "1\n",
      "already visited 0097\n",
      "(0, 0, 0, 8)\n",
      "starting in 0008\n",
      "1\n",
      "already visited 0008\n",
      "(0, 0, 0, 6)\n",
      "starting in 0006\n",
      "setting state to one 0006\n",
      "(1, 0, 0, 6)\n",
      "starting in 1006\n",
      "1\n",
      "already visited 1006\n",
      "(9, 0, 0, 6)\n",
      "starting in 9006\n",
      "1\n",
      "already visited 9006\n",
      "(0, 1, 0, 6)\n",
      "starting in 0106\n",
      "1\n",
      "already visited 0106\n",
      "(0, 9, 0, 6)\n",
      "starting in 0906\n",
      "1\n",
      "already visited 0906\n",
      "(0, 0, 1, 6)\n",
      "starting in 0016\n",
      "1\n",
      "already visited 0016\n",
      "(0, 0, 9, 6)\n",
      "starting in 0096\n",
      "1\n",
      "already visited 0096\n",
      "(0, 0, 0, 7)\n",
      "starting in 0007\n",
      "1\n",
      "already visited 0007\n",
      "(0, 0, 0, 5)\n",
      "starting in 0005\n",
      "setting state to one 0005\n",
      "(1, 0, 0, 5)\n",
      "starting in 1005\n",
      "1\n",
      "already visited 1005\n",
      "(9, 0, 0, 5)\n",
      "starting in 9005\n",
      "1\n",
      "already visited 9005\n",
      "(0, 1, 0, 5)\n",
      "starting in 0105\n",
      "1\n",
      "already visited 0105\n",
      "(0, 9, 0, 5)\n",
      "starting in 0905\n",
      "1\n",
      "already visited 0905\n",
      "(0, 0, 1, 5)\n",
      "starting in 0015\n",
      "1\n",
      "already visited 0015\n",
      "(0, 0, 9, 5)\n",
      "starting in 0095\n",
      "1\n",
      "already visited 0095\n",
      "(0, 0, 0, 6)\n",
      "starting in 0006\n",
      "1\n",
      "already visited 0006\n",
      "(0, 0, 0, 4)\n",
      "starting in 0004\n",
      "setting state to one 0004\n",
      "(1, 0, 0, 4)\n",
      "starting in 1004\n",
      "1\n",
      "already visited 1004\n",
      "(9, 0, 0, 4)\n",
      "starting in 9004\n",
      "1\n",
      "already visited 9004\n",
      "(0, 1, 0, 4)\n",
      "starting in 0104\n",
      "1\n",
      "already visited 0104\n",
      "(0, 9, 0, 4)\n",
      "starting in 0904\n",
      "1\n",
      "already visited 0904\n",
      "(0, 0, 1, 4)\n",
      "starting in 0014\n",
      "1\n",
      "already visited 0014\n",
      "(0, 0, 9, 4)\n",
      "starting in 0094\n",
      "1\n",
      "already visited 0094\n",
      "(0, 0, 0, 5)\n",
      "starting in 0005\n",
      "1\n",
      "already visited 0005\n",
      "(0, 0, 0, 3)\n",
      "starting in 0003\n",
      "setting state to one 0003\n",
      "(1, 0, 0, 3)\n",
      "starting in 1003\n",
      "1\n",
      "already visited 1003\n",
      "(9, 0, 0, 3)\n",
      "starting in 9003\n",
      "1\n",
      "already visited 9003\n",
      "(0, 1, 0, 3)\n",
      "starting in 0103\n",
      "1\n",
      "already visited 0103\n",
      "(0, 9, 0, 3)\n",
      "starting in 0903\n",
      "1\n",
      "already visited 0903\n",
      "(0, 0, 1, 3)\n",
      "starting in 0013\n",
      "1\n",
      "already visited 0013\n",
      "(0, 0, 9, 3)\n",
      "starting in 0093\n",
      "1\n",
      "already visited 0093\n",
      "(0, 0, 0, 4)\n",
      "starting in 0004\n",
      "1\n",
      "already visited 0004\n",
      "(0, 0, 0, 2)\n",
      "starting in 0002\n",
      "1\n",
      "already visited 0002\n"
     ]
    },
    {
     "data": {
      "text/plain": [
       "-1"
      ]
     },
     "execution_count": 33,
     "metadata": {},
     "output_type": "execute_result"
    }
   ],
   "source": [
    "class Solution:\n",
    "    def openLock(self, deadends, target):\n",
    "        \"\"\"\n",
    "        :type deadends: List[str]\n",
    "        :type target: str\n",
    "        :rtype: int\n",
    "        \"\"\"\n",
    "        \n",
    "        visited_states = [[[[0]*10]*10]*10]*10\n",
    "        init_state = (0,0,0,0)\n",
    "        for deadend in deadends:\n",
    "            state = tuple(int(a) for a in deadend)\n",
    "            visited_states[state[0]][state[1]][state[2]][state[3]] = 1\n",
    "        target = tuple(int(a) for a in target)\n",
    "        \n",
    "        def get_children(state,visited_states):\n",
    "            print('starting in ' +  ''.join(map(str, state)))\n",
    "            if visited_states[state[0]][state[1]][state[2]][state[3]]:\n",
    "                print(visited_states[state[0]][state[1]][state[2]][state[3]])\n",
    "                print('already visited ' +  ''.join(map(str, state)))\n",
    "                return 0\n",
    "            print('setting state to one ' +  ''.join(map(str, state)))\n",
    "            visited_states[state[0]][state[1]][state[2]][state[3]] = 1\n",
    "\n",
    "            if state != target:\n",
    "            \n",
    "                dist = 0\n",
    "                print(((state[0]+1)%10,state[1],state[2],state[3]))\n",
    "                dist += get_children(((state[0]+1)%10,state[1],state[2],state[3]),visited_states)\n",
    "                print(((state[0]-1)%10,state[1],state[2],state[3]))\n",
    "                dist += get_children(((state[0]-1)%10,state[1],state[2],state[3]),visited_states)\n",
    "                print((state[0],(state[1]+1)%10,state[2],state[3]))\n",
    "                dist += get_children((state[0],(state[1]+1)%10,state[2],state[3]),visited_states)\n",
    "                print((state[0],(state[1]-1)%10,state[2],state[3]))\n",
    "                dist += get_children((state[0],(state[1]-1)%10,state[2],state[3]),visited_states)\n",
    "                print((state[0],state[1],(state[2]+1)%10,state[3]))\n",
    "                dist += get_children((state[0],state[1],(state[2]+1)%10,state[3]),visited_states)\n",
    "                print((state[0],state[1],(state[2]-1)%10,state[3]))\n",
    "                dist += get_children((state[0],state[1],(state[2]-1)%10,state[3]),visited_states)\n",
    "                print((state[0],state[1],state[2],(state[3]+1)%10))\n",
    "                dist += get_children((state[0],state[1],state[2],(state[3]+1)%10),visited_states)\n",
    "                print((state[0],state[1],state[2],(state[3]-1)%10))\n",
    "                dist += get_children((state[0],state[1],state[2],(state[3]-1)%10),visited_states)\n",
    "                \n",
    "                if dist:\n",
    "                    return dist + 1\n",
    "                else:\n",
    "                    return 0\n",
    "            print('found target')\n",
    "            return 1 # target\n",
    "        \n",
    "        dist = get_children(init_state,visited_states)\n",
    "        if dist:\n",
    "            return dist\n",
    "        else:\n",
    "            return -1\n",
    "   \n",
    "s = Solution()\n",
    "s.openLock([\"0201\",\"0101\",\"0102\",\"1212\",\"2002\"],\"0202\")"
   ]
  },
  {
   "cell_type": "code",
   "execution_count": 62,
   "metadata": {},
   "outputs": [],
   "source": [
    "visited_states = [[[[0 for x in range(10)] for x in range(10)] for x in range(10)]for x in range(10)]\n",
    "state = (0,0,0,0)\n",
    "visited_states[state[0]][state[1]][state[2]][state[3]] = 1"
   ]
  },
  {
   "cell_type": "code",
   "execution_count": 63,
   "metadata": {},
   "outputs": [
    {
     "data": {
      "text/plain": [
       "1"
      ]
     },
     "execution_count": 63,
     "metadata": {},
     "output_type": "execute_result"
    }
   ],
   "source": [
    "visited_states[state[0]][state[1]][state[2]][state[3]]"
   ]
  },
  {
   "cell_type": "code",
   "execution_count": 64,
   "metadata": {},
   "outputs": [],
   "source": [
    "visited_states[0][0][0][0]=3"
   ]
  },
  {
   "cell_type": "code",
   "execution_count": 73,
   "metadata": {},
   "outputs": [
    {
     "data": {
      "text/plain": [
       "[10, 9, 8, 7, 6, 5, 4, 3, 2, 1]"
      ]
     },
     "execution_count": 73,
     "metadata": {},
     "output_type": "execute_result"
    }
   ],
   "source": [
    "[x for x in range(10,0,-1)]"
   ]
  },
  {
   "cell_type": "code",
   "execution_count": 66,
   "metadata": {},
   "outputs": [
    {
     "data": {
      "text/plain": [
       "3"
      ]
     },
     "execution_count": 66,
     "metadata": {},
     "output_type": "execute_result"
    }
   ],
   "source": [
    "visited_states[0][0][0][0]"
   ]
  },
  {
   "cell_type": "code",
   "execution_count": 99,
   "metadata": {},
   "outputs": [
    {
     "name": "stdout",
     "output_type": "stream",
     "text": [
      "8\n",
      "deque([4, 7])\n",
      "4\n"
     ]
    },
    {
     "data": {
      "text/plain": [
       "2"
      ]
     },
     "execution_count": 99,
     "metadata": {},
     "output_type": "execute_result"
    }
   ],
   "source": [
    "import math\n",
    "import collections\n",
    "def find_children(layer_reg,depth):\n",
    "    next_layer_reg = collections.deque()\n",
    "    \n",
    "    while len(layer_reg):\n",
    "        res = layer_reg.popleft()\n",
    "        print(res)\n",
    "        max_square_root = math.floor(math.sqrt(res))\n",
    "        \n",
    "        if max_square_root**2 == res:\n",
    "            return depth\n",
    "        \n",
    "        next_layer_reg.extend([res - x**2 for x in range(max_square_root,0,-1)])\n",
    "    print(next_layer_reg)  \n",
    "    return find_children(next_layer_reg,depth+1)\n",
    "\n",
    "find_children(collections.deque([8]),1)"
   ]
  },
  {
   "cell_type": "code",
   "execution_count": 135,
   "metadata": {},
   "outputs": [
    {
     "ename": "SyntaxError",
     "evalue": "'return' outside function (<ipython-input-135-1344a22ba1ee>, line 7)",
     "output_type": "error",
     "traceback": [
      "\u001b[0;36m  File \u001b[0;32m\"<ipython-input-135-1344a22ba1ee>\"\u001b[0;36m, line \u001b[0;32m7\u001b[0m\n\u001b[0;31m    return dp[n]\u001b[0m\n\u001b[0m                ^\u001b[0m\n\u001b[0;31mSyntaxError\u001b[0m\u001b[0;31m:\u001b[0m 'return' outside function\n"
     ]
    }
   ],
   "source": [
    "n = 11\n",
    "dp = [0]\n",
    "x = 1\n",
    "while x <= n:\n",
    "    dp += min(dp[-i*i] for i in range(1, int(x**0.5+1)))+1,\n",
    "    x+=1\n",
    "return dp[n]"
   ]
  },
  {
   "cell_type": "code",
   "execution_count": 134,
   "metadata": {},
   "outputs": [
    {
     "data": {
      "text/plain": [
       "3"
      ]
     },
     "execution_count": 134,
     "metadata": {},
     "output_type": "execute_result"
    }
   ],
   "source": [
    "while len(dp) <= n:\n",
    "    dp += min(dp[-i*i] for i in range(1, int(len(dp)**0.5+1))) + 1,\n",
    "dp[n]"
   ]
  },
  {
   "cell_type": "code",
   "execution_count": 142,
   "metadata": {},
   "outputs": [],
   "source": [
    "class a():\n",
    "    left = None"
   ]
  },
  {
   "cell_type": "code",
   "execution_count": 144,
   "metadata": {},
   "outputs": [],
   "source": [
    "b = a()"
   ]
  },
  {
   "cell_type": "code",
   "execution_count": 147,
   "metadata": {},
   "outputs": [
    {
     "ename": "SyntaxError",
     "evalue": "invalid syntax (<ipython-input-147-0254ae611010>, line 1)",
     "output_type": "error",
     "traceback": [
      "\u001b[0;36m  File \u001b[0;32m\"<ipython-input-147-0254ae611010>\"\u001b[0;36m, line \u001b[0;32m1\u001b[0m\n\u001b[0;31m    b.!left\u001b[0m\n\u001b[0m      ^\u001b[0m\n\u001b[0;31mSyntaxError\u001b[0m\u001b[0;31m:\u001b[0m invalid syntax\n"
     ]
    }
   ],
   "source": [
    "b.!left"
   ]
  },
  {
   "cell_type": "code",
   "execution_count": null,
   "metadata": {},
   "outputs": [],
   "source": []
  }
 ],
 "metadata": {
  "kernelspec": {
   "display_name": "Python 3",
   "language": "python",
   "name": "python3"
  },
  "language_info": {
   "codemirror_mode": {
    "name": "ipython",
    "version": 3
   },
   "file_extension": ".py",
   "mimetype": "text/x-python",
   "name": "python",
   "nbconvert_exporter": "python",
   "pygments_lexer": "ipython3",
   "version": "3.6.4"
  }
 },
 "nbformat": 4,
 "nbformat_minor": 2
}
