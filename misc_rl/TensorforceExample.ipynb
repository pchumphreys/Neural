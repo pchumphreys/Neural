{
 "cells": [
  {
   "cell_type": "code",
   "execution_count": 52,
   "metadata": {
    "scrolled": false
   },
   "outputs": [],
   "source": [
    "import numpy as np\n",
    "import json\n",
    "from tensorforce.agents import *\n",
    "from tensorforce.execution import Runner\n",
    "from tensorforce.contrib.openai_gym import OpenAIGym\n"
   ]
  },
  {
   "cell_type": "code",
   "execution_count": 53,
   "metadata": {
    "scrolled": false
   },
   "outputs": [],
   "source": [
    "agent_config = {\n",
    "'actions_exploration': {\n",
    "  'type': 'epsilon_anneal',\n",
    "  'final_epsilon': 0.02,\n",
    "  'initial_epsilon': 1.0,\n",
    "  'timesteps': 10000},\n",
    " 'discount': 1.0,\n",
    " 'double_q_model': True,\n",
    " 'huber_loss': 1.0,\n",
    " 'memory': {\n",
    "  'capacity': 50000, 'include_next_states': True, 'type': 'replay'},\n",
    "  'optimizer': {'clipping_value': 0.01,\n",
    "  'optimizer': {'learning_rate': 0.001, 'type': 'adam'},\n",
    "  'type': 'clipped_step'},\n",
    " 'target_sync_frequency': 500,\n",
    " 'target_update_weight': 1.0,\n",
    " 'type': 'dqn_agent',\n",
    " 'update_mode': {\n",
    "   'batch_size': 32,\n",
    "   'first_update': 1000,\n",
    "   'frequency': 1,\n",
    "   'repeat_update': 1,\n",
    "   'unit': 'timesteps'},\n",
    " 'variable_noise': None}\n",
    "\n",
    "network_spec = [\n",
    "    {'activation': 'relu', 'size': 32, 'type': 'dense'},\n",
    "     {'activation': 'relu', 'size': 32, 'type': 'dense'},\n",
    "]\n",
    "\n",
    "misc_config = {'episodes' : 500}\n"
   ]
  },
  {
   "cell_type": "code",
   "execution_count": 56,
   "metadata": {},
   "outputs": [],
   "source": [
    "def test_agent(agent_config,network_spec,misc_config):\n",
    "    # Network as list of layers\n",
    "    # - Embedding layer:\n",
    "    #   - For Gym environments utilizing a discrete observation space, an\n",
    "    #     \"embedding\" layer should be inserted at the head of the network spec.\n",
    "    #     Such environments are usually identified by either:\n",
    "    #     - class ...Env(discrete.DiscreteEnv):\n",
    "    #     - self.observation_space = spaces.Discrete(...)\n",
    "\n",
    "    # Note that depending on the following layers used, the embedding layer *may* need a\n",
    "    # flattening layer\n",
    "\n",
    "    environment = OpenAIGym('LunarLander-v2', visualize=False)\n",
    "\n",
    "    agent = Agent.from_spec(\n",
    "    spec=agent_config,\n",
    "    kwargs=dict(\n",
    "        states=environment.states,\n",
    "        actions=environment.actions,\n",
    "        network=network_spec\n",
    "    )\n",
    ")\n",
    "\n",
    "    # Create the runner\n",
    "    runner = Runner(agent=agent, environment=environment)\n",
    "\n",
    "\n",
    "    # Callback function printing episode statistics\n",
    "    def episode_finished(r):\n",
    "        if r.episode%100 == 0:\n",
    "            print(\"Finished episode {ep} after {ts} timesteps (reward: {reward})\".format(ep=r.episode, ts=r.episode_timestep,\n",
    "                                                                                     reward=r.episode_rewards[-1]))\n",
    "        return True\n",
    "\n",
    "\n",
    "    # Start learning\n",
    "    runner.run(episodes=misc_config['episodes'], max_episode_timesteps=600, episode_finished=episode_finished)\n",
    "    runner.close()\n",
    "\n",
    "    # Print statistics\n",
    "    print(\"Learning finished. Total episodes: {ep}. Average reward of last 100 episodes: {ar}.\".format(\n",
    "        ep=runner.episode,\n",
    "        ar=np.mean(runner.episode_rewards[-100:]))\n",
    "    )\n",
    "    \n",
    "    return runner.episode_rewards\n"
   ]
  },
  {
   "cell_type": "code",
   "execution_count": 57,
   "metadata": {
    "scrolled": false
   },
   "outputs": [
    {
     "name": "stdout",
     "output_type": "stream",
     "text": [
      "\u001b[33mWARN: gym.spaces.Box autodetected dtype as <class 'numpy.float32'>. Please provide explicit dtype.\u001b[0m\n",
      "INFO:tensorflow:Graph was finalized.\n",
      "INFO:tensorflow:Running local_init_op.\n",
      "INFO:tensorflow:Done running local_init_op.\n",
      "Finished episode 100 after 51 timesteps (reward: -342.23785467290884)\n",
      "Finished episode 200 after 80 timesteps (reward: -570.8966958577026)\n",
      "Finished episode 300 after 89 timesteps (reward: -380.2576845455283)\n",
      "Finished episode 400 after 399 timesteps (reward: -238.6377509379052)\n",
      "Finished episode 500 after 601 timesteps (reward: -119.75905293111371)\n",
      "Learning finished. Total episodes: 500. Average reward of last 100 episodes: -134.06009376680709.\n",
      "\u001b[33mWARN: gym.spaces.Box autodetected dtype as <class 'numpy.float32'>. Please provide explicit dtype.\u001b[0m\n",
      "INFO:tensorflow:Graph was finalized.\n",
      "INFO:tensorflow:Running local_init_op.\n",
      "INFO:tensorflow:Done running local_init_op.\n",
      "Finished episode 100 after 61 timesteps (reward: -596.7966850776903)\n",
      "Finished episode 200 after 79 timesteps (reward: -223.24480715985362)\n",
      "Finished episode 300 after 60 timesteps (reward: -189.25122257358868)\n",
      "Finished episode 400 after 75 timesteps (reward: -320.24109174329794)\n",
      "Finished episode 500 after 352 timesteps (reward: -688.7255897043979)\n",
      "Learning finished. Total episodes: 500. Average reward of last 100 episodes: -384.19451286068653.\n",
      "\u001b[33mWARN: gym.spaces.Box autodetected dtype as <class 'numpy.float32'>. Please provide explicit dtype.\u001b[0m\n",
      "INFO:tensorflow:Graph was finalized.\n",
      "INFO:tensorflow:Running local_init_op.\n",
      "INFO:tensorflow:Done running local_init_op.\n",
      "Finished episode 100 after 148 timesteps (reward: -271.61800292886494)\n",
      "Finished episode 200 after 62 timesteps (reward: -185.53728194555362)\n",
      "Finished episode 300 after 601 timesteps (reward: 11.279412983894161)\n",
      "Finished episode 400 after 260 timesteps (reward: -218.03221470724912)\n",
      "Finished episode 500 after 601 timesteps (reward: -90.59027841661644)\n",
      "Learning finished. Total episodes: 500. Average reward of last 100 episodes: -231.40680276699536.\n",
      "\u001b[33mWARN: gym.spaces.Box autodetected dtype as <class 'numpy.float32'>. Please provide explicit dtype.\u001b[0m\n",
      "INFO:tensorflow:Graph was finalized.\n",
      "INFO:tensorflow:Running local_init_op.\n",
      "INFO:tensorflow:Done running local_init_op.\n",
      "Finished episode 100 after 168 timesteps (reward: -221.61658218154705)\n",
      "Finished episode 200 after 69 timesteps (reward: -575.7115589276477)\n",
      "Finished episode 300 after 59 timesteps (reward: -38.92086625639655)\n",
      "Finished episode 400 after 75 timesteps (reward: -491.6651162550899)\n",
      "Finished episode 500 after 69 timesteps (reward: -183.3534600406867)\n",
      "Learning finished. Total episodes: 500. Average reward of last 100 episodes: -229.31193998198208.\n",
      "\u001b[33mWARN: gym.spaces.Box autodetected dtype as <class 'numpy.float32'>. Please provide explicit dtype.\u001b[0m\n",
      "INFO:tensorflow:Graph was finalized.\n",
      "INFO:tensorflow:Running local_init_op.\n",
      "INFO:tensorflow:Done running local_init_op.\n",
      "Finished episode 100 after 97 timesteps (reward: -356.97794620536735)\n",
      "Finished episode 200 after 76 timesteps (reward: -746.8586592066794)\n",
      "Finished episode 300 after 141 timesteps (reward: -534.9263787348912)\n",
      "Finished episode 400 after 62 timesteps (reward: -174.70973482893908)\n",
      "Finished episode 500 after 372 timesteps (reward: -411.7214801131076)\n",
      "Learning finished. Total episodes: 500. Average reward of last 100 episodes: -346.6439629201229.\n"
     ]
    }
   ],
   "source": [
    "learning_rates = [1e-3]\n",
    "reps = 5\n",
    "\n",
    "rewards = np.zeros((len(learning_rates),reps,misc_config['episodes']))\n",
    "for i,learning_rate in enumerate(learning_rates):\n",
    "    for j in range(reps):\n",
    "        rewards[i,j,:] = test_agent(agent_config,network_spec,misc_config)"
   ]
  },
  {
   "cell_type": "code",
   "execution_count": 58,
   "metadata": {},
   "outputs": [
    {
     "data": {
      "image/png": "[encoded data removed]",
      "text/plain": [
       "<matplotlib.figure.Figure at 0x1c2c235a58>"
      ]
     },
     "metadata": {},
     "output_type": "display_data"
    }
   ],
   "source": [
    "from matplotlib import pyplot as plt\n",
    "\n",
    "x = range(misc_config['episodes'])\n",
    "ys = np.mean(rewards,axis=1)\n",
    "\n",
    "errors = np.std(rewards,axis=1)\n",
    "\n",
    "for y,error,lr in zip(ys,errors,learning_rates):\n",
    "    plt.plot(x, y, '-',label=lr)\n",
    "    plt.fill_between(x, y-error, y+error,alpha=0.2)\n",
    "plt.legend()\n",
    "plt.show()\n",
    "plt.close()"
   ]
  },
  {
   "cell_type": "code",
   "execution_count": null,
   "metadata": {},
   "outputs": [],
   "source": []
  }
 ],
 "metadata": {
  "kernelspec": {
   "display_name": "Python 3",
   "language": "python",
   "name": "python3"
  },
  "language_info": {
   "codemirror_mode": {
    "name": "ipython",
    "version": 3
   },
   "file_extension": ".py",
   "mimetype": "text/x-python",
   "name": "python",
   "nbconvert_exporter": "python",
   "pygments_lexer": "ipython3",
   "version": "3.6.4"
  }
 },
 "nbformat": 4,
 "nbformat_minor": 2
}
