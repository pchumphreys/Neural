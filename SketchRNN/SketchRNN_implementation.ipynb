{
 "cells": [
  {
   "cell_type": "markdown",
   "metadata": {},
   "source": [
    "## Sketch RNN\n",
    "\n",
    "Lets implement Sketch RNN from https://arxiv.org/pdf/1704.03477.pdf!"
   ]
  },
  {
   "cell_type": "markdown",
   "metadata": {},
   "source": [
    "### Data\n",
    "First get the data (npz files), I stored it locally. https://github.com/googlecreativelab/quickdraw-dataset"
   ]
  },
  {
   "cell_type": "code",
   "execution_count": 25,
   "metadata": {},
   "outputs": [],
   "source": [
    "import os\n",
    "import numpy as np\n",
    "from utils_from_sketchRNN import *\n",
    "import matplotlib.pyplot as plt\n",
    "%matplotlib inline"
   ]
  },
  {
   "cell_type": "code",
   "execution_count": 181,
   "metadata": {},
   "outputs": [
    {
     "name": "stdout",
     "output_type": "stream",
     "text": [
      "Lets play with the category: book\n",
      "total images <= max_seq_len is 70000\n"
     ]
    }
   ],
   "source": [
    "data_file_dir = '/Users/phumphreys/Repositories/quick_draw_files'\n",
    "files = os.listdir(data_file_dir)\n",
    "categories = [file.split('.')[0] for file in files if '.npz' in file]\n",
    "\n",
    "category = categories[1]\n",
    "print('Lets play with the category: {0}'.format(category))\n",
    "data = np.load(os.path.join(data_file_dir,category+'.npz'),encoding='bytes')\n",
    "\n",
    "train = data['train']\n",
    "test = data['test']\n",
    "valid = data['valid']"
   ]
  },
  {
   "cell_type": "code",
   "execution_count": 214,
   "metadata": {},
   "outputs": [
    {
     "name": "stdout",
     "output_type": "stream",
     "text": [
      "total images <= max_seq_len is 70000\n"
     ]
    }
   ],
   "source": [
    "x=[]\n",
    "y=[]\n",
    "for t in train:\n",
    "    x.extend(t[:,0])\n",
    "    y.extend(t[:,0])\n",
    "std_dev = 0.5*(np.std(x)+np.std(y))\n",
    "# Normalise by std deviation!\n",
    "dl = DataLoader(train,scale_factor=std_dev)"
   ]
  },
  {
   "cell_type": "code",
   "execution_count": 215,
   "metadata": {},
   "outputs": [
    {
     "data": {
      "image/png": "[encoded data removed]",
      "text/plain": [
       "<Figure size 432x288 with 1 Axes>"
      ]
     },
     "metadata": {
      "needs_background": "light"
     },
     "output_type": "display_data"
    }
   ],
   "source": [
    "lines = strokes_to_lines(train[5])\n",
    "plt.figure()\n",
    "for line in lines:\n",
    "    line = np.array(line)\n",
    "    plt.plot(line[:,0],line[:,1])"
   ]
  },
  {
   "cell_type": "markdown",
   "metadata": {},
   "source": [
    "### Implementation \n",
    "\n",
    "Ok, lets get this thing coded up!\n",
    "\n",
    "![](figs/schematic.png)"
   ]
  },
  {
   "cell_type": "code",
   "execution_count": 216,
   "metadata": {},
   "outputs": [],
   "source": [
    "import tensorflow as tf\n",
    "import keras\n",
    "from keras.models import Model, Sequential\n",
    "from keras.layers import *\n",
    "from keras import backend as K\n",
    "\n",
    "import tensorflow_probability as tfp\n",
    "tfd = tfp.distributions"
   ]
  },
  {
   "cell_type": "code",
   "execution_count": 220,
   "metadata": {},
   "outputs": [],
   "source": [
    "max_seq_length = dl.max_seq_length\n",
    "encoder_hidden_units = 512\n",
    "decoder_hidden_units= 2048 \n",
    "n_latent = 128\n",
    "n_gaussians= 20\n",
    "\n",
    "\n",
    "\n",
    "tf.reset_default_graph() # THIS IS NECESSARY BEFORE MAKING NEW SESSION TO STOP IT ERRORING!!\n",
    "\n",
    "if not(tf.get_default_session() is None):\n",
    "    tf.get_default_session().close()\n",
    "\n",
    "sess = tf.InteractiveSession()\n",
    "\n",
    "### ENCODER\n",
    "\n",
    "encoder_inputs = tf.placeholder(tf.float32,shape=(None,None,5),name='inputs')\n",
    "\n",
    "def pad_input_length(args,max_seq_length):\n",
    "    to_pad = max_seq_length-tf.shape(args)[-2]\n",
    "    tf.Assert(to_pad >= 0, [to_pad])\n",
    "    padding = tf.tile([[[0.0,0.0,0.0,0.0,1.0]]],[tf.shape(args)[0],to_pad,1])\n",
    "    return tf.concat([args,padding],axis=-2)\n",
    "encoder_inputs = Lambda(pad_input_length,arguments={'max_seq_length' : max_seq_length})(encoder_inputs)\n",
    "\n",
    "encoder_net = Sequential()\n",
    "encoder_net.add(Bidirectional(LSTM(encoder_hidden_units,return_sequences=False),name='encoder_LSTMs'))\n",
    "encoder_net.add(BatchNormalization()) # They use layer norm, but you know, laziness\n",
    "encoder_net.add(Dense(2*n_latent,name='means_log_stds'))\n",
    "encoder_net.add(BatchNormalization())\n",
    "\n",
    "latent_in = encoder_net(encoder_inputs)\n",
    "\n",
    "def _softplus_inverse(x):\n",
    "  \"\"\"Helper which computes the function inverse of `tf.nn.softplus`.\"\"\"\n",
    "  return tf.log(tf.expm1(x))\n",
    "\n",
    "def get_dist_from_latent(latent_in):\n",
    "    mean,softp_inv = tf.split(latent_in,num_or_size_splits=2,axis=-1)\n",
    "    return tfp.distributions.MultivariateNormalDiag(\n",
    "        loc=mean,\n",
    "        scale_diag=tf.nn.softplus(softp_inv+_softplus_inverse(1.0)),name='encoder_dist')\n",
    "\n",
    "prior_dist = tfp.distributions.MultivariateNormalDiag(\n",
    "        loc=tf.zeros(n_latent),\n",
    "        scale_identity_multiplier=1.0,name='encoder_dist_prior')\n",
    "\n",
    "encoder_dist = get_dist_from_latent(latent_in)\n",
    "z = encoder_dist.sample()\n",
    "\n",
    "##### DECODER\n",
    "\n",
    "h0 = Dense(decoder_hidden_units,activation='tanh',name='h0')(z)\n",
    "h0 = BatchNormalization()(h0)\n",
    "c0 = Dense(decoder_hidden_units,activation='tanh',name='c0')(z)\n",
    "c0 = BatchNormalization()(c0)\n",
    "\n",
    "decoderLSTM = LSTM(decoder_hidden_units,return_sequences=True,name='decoderLSTM') # Define so that can share weights with predict later\n",
    "\n",
    "def concat_repeated_z(args):\n",
    "    z,inputs = args\n",
    "    tiled_z = K.tile(K.expand_dims(z,axis=1),[1,K.shape(inputs)[1],1])\n",
    "    return Concatenate()([tiled_z,inputs])\n",
    "training_decoder_in = Lambda(concat_repeated_z,name='concat_inputs_latents')([z,encoder_inputs]) # Pad each entry with z\n",
    "training_decoder_output = decoderLSTM(training_decoder_in,initial_state = (h0,c0))\n",
    "training_decoder_output = BatchNormalization()(training_decoder_output)\n",
    "\n",
    "# Gaussian mixture model for output\n",
    "\n",
    "def Gaussian2D(args):\n",
    "    scale_tril = tfd.fill_triangular(tf.concat([tf.nn.softplus(args[...,0]+_softplus_inverse(1.0)),args[...,1],tf.nn.softplus(args[...,2]+_softplus_inverse(1.0))],axis=-1))\n",
    "    return tfd.MultivariateNormalTriL(loc=args[...,3:5],scale_tril=scale_tril)\n",
    "\n",
    "def GaussianMixtures2D(gmm_vars):\n",
    "    if len(gmm_vars.shape) == 2:\n",
    "        gmm_vars = tf.reshape(gmm_vars,[tf.shape(gmm_vars)[0],-1,6]) # Assumes that input will be [None,n*6]\n",
    "    elif len(gmm_vars.shape) == 3:\n",
    "        gmm_vars = tf.reshape(gmm_vars,[tf.shape(gmm_vars)[0],tf.shape(gmm_vars)[1],-1,6]) # Assumes that input will be [None,n*6]\n",
    "    else:\n",
    "        raise('Sorry input shape not supported')\n",
    "    weights = gmm_vars[...,0]\n",
    "    scale_trils = tfd.fill_triangular(\n",
    "        tf.concat([tf.nn.softplus(tf.expand_dims(gmm_vars[...,1],axis=-1)+_softplus_inverse(1.0)),\n",
    "                     tf.expand_dims(gmm_vars[...,2],axis=-1),\n",
    "                     tf.nn.softplus(tf.expand_dims(gmm_vars[...,3],axis=-1)+_softplus_inverse(1.0))],axis=-1))\n",
    "    means = gmm_vars[...,4:6]\n",
    "    return tfd.MixtureSameFamily(mixture_distribution=tfd.Categorical(logits = weights),\n",
    "        components_distribution=tfd.MultivariateNormalTriL(loc=means,scale_tril=scale_trils),name='gmm')\n",
    "\n",
    "    \n",
    "dense_pos = TimeDistributed(Dense(n_gaussians*6))(training_decoder_output)\n",
    "dense_pos = BatchNormalization()(dense_pos)\n",
    "encoder_pos_dists = GaussianMixtures2D(dense_pos)\n",
    "encoder_pos_out = encoder_pos_dists.sample()\n",
    "\n",
    "dense_q = TimeDistributed(Dense(3))(training_decoder_output)\n",
    "dense_q = BatchNormalization()(dense_q)\n",
    "\n",
    "encoder_q_soft = TimeDistributed(Softmax())(dense_q)\n",
    "encoder_q_out = tf.one_hot(tf.argmax(dense_q,axis=-1),depth=3)\n",
    "\n",
    "out_strokes = Concatenate()([encoder_pos_out,encoder_q_out])\n",
    "\n",
    "encoder_log_probs_pos = encoder_pos_dists.log_prob(encoder_inputs[...,:2])\n",
    "loss_pos = -tf.reduce_mean(tf.reduce_sum(encoder_log_probs_pos,axis=-1))/max_seq_length\n",
    "\n",
    "input_inds = tf.argmax(encoder_inputs[...,2:],axis=-1)\n",
    "loss_q = tf.reduce_mean(tf.reduce_sum(tf.nn.sparse_softmax_cross_entropy_with_logits(\n",
    "    labels=input_inds,\n",
    "    logits=dense_q),axis=-1))/max_seq_length\n",
    "\n",
    "loss_KL = tf.reduce_mean(tfd.kl_divergence(prior_dist,encoder_dist))\n",
    "w_kl = 1.0\n",
    "total_loss = (loss_pos+loss_q + w_kl * loss_KL)\n",
    "\n",
    "train = tf.train.AdamOptimizer().minimize(total_loss)\n",
    "\n",
    "tf.global_variables_initializer().run() "
   ]
  },
  {
   "cell_type": "code",
   "execution_count": null,
   "metadata": {},
   "outputs": [],
   "source": [
    "for i in range(dl.num_batches):\n",
    "    _,batch,_ = dl.get_batch(i)\n",
    "    _,losses_pos,losses_q,losses_KL = sess.run([train,loss_pos,loss_q,loss_KL],feed_dict = {encoder_inputs : batch})\n",
    "    print(i,losses_pos,losses_q,losses_KL)"
   ]
  },
  {
   "cell_type": "code",
   "execution_count": 53,
   "metadata": {},
   "outputs": [],
   "source": [
    "pred = out_strokes.eval(feed_dict = {encoder_inputs : [batch[4]]})[0]\n"
   ]
  },
  {
   "cell_type": "code",
   "execution_count": 60,
   "metadata": {},
   "outputs": [
    {
     "data": {
      "text/plain": [
       "array([[   0.,    0.,    0.],\n",
       "       [   7.,   58.,    0.],\n",
       "       [   2.,   62.,    0.],\n",
       "       [   0.,   34.,    0.],\n",
       "       [  -6.,   45.,    0.],\n",
       "       [  26.,  -17.,    0.],\n",
       "       [  85.,  -31.,    0.],\n",
       "       [  26.,    0.,    0.],\n",
       "       [  25.,    6.,    0.],\n",
       "       [  19.,    9.,    0.],\n",
       "       [  -6.,  -89.,    0.],\n",
       "       [ -11.,  -76.,    0.],\n",
       "       [ -16.,  -24.,    0.],\n",
       "       [ -18.,   -7.,    0.],\n",
       "       [ -21.,   -3.,    0.],\n",
       "       [-119.,    2.,    0.],\n",
       "       [  -1.,   -5.,    0.],\n",
       "       [   0.,   23.,    0.],\n",
       "       [  18.,   43.,    1.],\n",
       "       [ 177.,  -57.,    0.],\n",
       "       [  46.,   -7.,    0.],\n",
       "       [  26.,  -12.,    0.],\n",
       "       [  26.,  -19.,    0.],\n",
       "       [  31.,  -10.,    0.],\n",
       "       [  33.,   -3.,    0.],\n",
       "       [   1.,    7.,    0.],\n",
       "       [   4.,  251.,    0.],\n",
       "       [ -46.,  -18.,    0.],\n",
       "       [ -67.,   -3.,    0.],\n",
       "       [ -22.,    4.,    0.],\n",
       "       [ -10.,   -4.,    1.],\n",
       "       [   0.,    0.,    0.],\n",
       "       [  -3.,  -42.,    0.],\n",
       "       [ -17., -110.,    0.],\n",
       "       [  -6.,  -22.,    0.],\n",
       "       [ -12.,  -26.,    0.],\n",
       "       [  10.,   13.,    0.],\n",
       "       [   4.,   13.,    0.],\n",
       "       [ -30.,   -6.,    0.],\n",
       "       [   5.,    3.,    0.],\n",
       "       [   5.,   13.,    0.],\n",
       "       [  -3.,  -30.,    0.],\n",
       "       [  14.,    0.,    0.],\n",
       "       [  10.,   42.,    1.]])"
      ]
     },
     "execution_count": 60,
     "metadata": {},
     "output_type": "execute_result"
    }
   ],
   "source": [
    "to_normal_strokes(batch[4])"
   ]
  },
  {
   "cell_type": "code",
   "execution_count": 64,
   "metadata": {},
   "outputs": [
    {
     "data": {
      "text/plain": [
       "[]"
      ]
     },
     "execution_count": 64,
     "metadata": {},
     "output_type": "execute_result"
    }
   ],
   "source": [
    "strokes_to_lines(to_normal_strokes(pred))"
   ]
  },
  {
   "cell_type": "code",
   "execution_count": 56,
   "metadata": {},
   "outputs": [
    {
     "data": {
      "text/plain": [
       "<Figure size 432x288 with 0 Axes>"
      ]
     },
     "metadata": {},
     "output_type": "display_data"
    }
   ],
   "source": [
    "lines = strokes_to_lines(to_normal_strokes(pred))\n",
    "plt.figure()\n",
    "for line in lines:\n",
    "    line = np.array(line)\n",
    "    plt.plot(line[:,0],line[:,1])\n",
    "plt.show()\n",
    "plt.close()"
   ]
  },
  {
   "cell_type": "code",
   "execution_count": 28,
   "metadata": {},
   "outputs": [
    {
     "data": {
      "image/png": "[encoded data removed]",
      "text/plain": [
       "<Figure size 432x288 with 1 Axes>"
      ]
     },
     "metadata": {
      "needs_background": "light"
     },
     "output_type": "display_data"
    }
   ],
   "source": [
    "lines = strokes_to_lines(to_normal_strokes(batch[20]))\n",
    "plt.figure()\n",
    "for line in lines:\n",
    "    line = np.array(line)\n",
    "    plt.plot(line[:,0],line[:,1])\n",
    "plt.show()"
   ]
  },
  {
   "cell_type": "code",
   "execution_count": null,
   "metadata": {},
   "outputs": [],
   "source": []
  }
 ],
 "metadata": {
  "kernelspec": {
   "display_name": "Python 3",
   "language": "python",
   "name": "python3"
  },
  "language_info": {
   "codemirror_mode": {
    "name": "ipython",
    "version": 3
   },
   "file_extension": ".py",
   "mimetype": "text/x-python",
   "name": "python",
   "nbconvert_exporter": "python",
   "pygments_lexer": "ipython3",
   "version": "3.6.6"
  }
 },
 "nbformat": 4,
 "nbformat_minor": 2
}
